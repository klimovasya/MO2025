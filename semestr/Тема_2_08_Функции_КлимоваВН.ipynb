{
  "cells": [
    {
      "cell_type": "markdown",
      "metadata": {
        "id": "6PChwKMBT9sU"
      },
      "source": [
        "# 2.08 Функции\n",
        "\n",
        "## Введение в функции\n",
        "\n",
        "Функции - это основные строительные блоки, которые позволяют структурировать всё большие и большие объемы кода для решения задач.\n",
        "\n",
        "**Что такое функция?**\n",
        "\n",
        "Формально, функция - это способ группировки нескольких команд вместе, которые можно запускать много раз. Также функции позволяют указывать параметры, которые являются входными данными для функций.\n",
        "\n",
        "На более фундаментальном уровне, функции позволяют нам не повторять один и тот же код много раз. Например, если вспомнить лекцию о строках и списках, то мы использовали функцию len() для определения длины строки. Поскольку проверка длины последовательности - это частая задача, то для этой задачи написана функция, которую можно вызывать много раз.\n",
        "\n",
        "Функции - это один из основных уровней переиспользования кода в Python. И они также позволяют нам задуматься о проектировании программы - мы рассмотрим более подробно идеи проектирования позднее, когда будем изучать Объектно-Ориентированное Программирование."
      ]
    },
    {
      "cell_type": "markdown",
      "metadata": {
        "id": "OEJW4SedT9sW"
      },
      "source": [
        "## Команды def\n",
        "\n",
        "Давайте посмотрим синтаксис функций в Python:"
      ]
    },
    {
      "cell_type": "code",
      "execution_count": null,
      "metadata": {
        "collapsed": true,
        "id": "MwsO2J7gT9sX"
      },
      "outputs": [],
      "source": [
        "def name_of_function(arg1,arg2):\n",
        "    '''\n",
        "    Здесь указывается Document String (docstring)\n",
        "    '''\n",
        "    # Здесь выполняем действия\n",
        "    # Возвращаем нужный результат"
      ]
    },
    {
      "cell_type": "markdown",
      "metadata": {
        "id": "V9_jYkQ7T9sY"
      },
      "source": [
        "Создание функции начинается с <code>def</code>, затем пробел и название функции. Постарайтесь выбирать названия функций осмысленными, например len() - это хорошее название для функции, вычисляющей длину (length). Также обратите внимание на то, чтобы не выбрать названия, уже зарезервированные для [встроенных функций в Python](https://docs.python.org/2/library/functions.html) (например, len).\n",
        "\n",
        "Далее указываются скобки и несколько параметров (аргументов), через запятую. Эти параметры являются входными данными для функции. Их можно будет использовать внутри функции. Далее пишется двоеточие.\n",
        "\n",
        "И затем важный шаг - Вы должны сделать отступы для кода, который содержится внутри функции. Python использует *пробелы* для организации кода. Многие языки программирования не применяют такой подход, так что обратите на этот момент особое внимание.\n",
        "\n",
        "Далее идёт docstring - здесь Вы можете указать описание функции. В iPython и iPython Notebooks Вы можете прочитать эти описания docstrings, нажимая Shift+Tab после названия функции. Описания Docstrings не обязательны для простых функций, но в общем случае написать их - это хорошая практика, чтобы Вы или другие люди могли легче понимать Ваш код.\n",
        "\n",
        "После этого мы пишем код, который нужно запускать.\n",
        "\n",
        "Лучший способ изучить функции - разобрать несколько примеров:"
      ]
    },
    {
      "cell_type": "markdown",
      "metadata": {
        "id": "J4kBWa6rT9sY"
      },
      "source": [
        "### Пример 1: простая функция - напечатать 'hello'"
      ]
    },
    {
      "cell_type": "code",
      "execution_count": null,
      "metadata": {
        "collapsed": true,
        "id": "Wu49FaitT9sY"
      },
      "outputs": [],
      "source": [
        "def say_hello ():\n",
        "    print('hello')\n"
      ]
    },
    {
      "cell_type": "markdown",
      "metadata": {
        "id": "RMTMAjC2T9sZ"
      },
      "source": [
        "Запуск функции:"
      ]
    },
    {
      "cell_type": "code",
      "execution_count": null,
      "metadata": {
        "colab": {
          "base_uri": "https://localhost:8080/"
        },
        "id": "F0ZTtLFJT9sZ",
        "outputId": "e1103bc3-0df9-4903-bcc5-145937641af8"
      },
      "outputs": [
        {
          "output_type": "stream",
          "name": "stdout",
          "text": [
            "hello\n"
          ]
        }
      ],
      "source": [
        "say_hello ()"
      ]
    },
    {
      "cell_type": "markdown",
      "metadata": {
        "id": "t7I5ZFlBT9sa"
      },
      "source": [
        "### Пример 2: Простая функция приветствия\n",
        "Напишем функцию, которая приветствует людей по их имени."
      ]
    },
    {
      "cell_type": "code",
      "execution_count": null,
      "metadata": {
        "collapsed": true,
        "id": "B_HeJPSQT9sa"
      },
      "outputs": [],
      "source": [
        "def greeting(name):\n",
        "    print('Hello %s' %(name))"
      ]
    },
    {
      "cell_type": "code",
      "execution_count": null,
      "metadata": {
        "colab": {
          "base_uri": "https://localhost:8080/"
        },
        "id": "_fP46LPVT9sa",
        "outputId": "1a8a94df-1408-4171-ac4c-37455c301117"
      },
      "outputs": [
        {
          "output_type": "stream",
          "name": "stdout",
          "text": [
            "Hello Admin\n"
          ]
        }
      ],
      "source": [
        "greeting('Admin')"
      ]
    },
    {
      "cell_type": "markdown",
      "metadata": {
        "id": "kyWHLoLDT9sb"
      },
      "source": [
        "## Использование return\n",
        "Рассмотрим несколько примеров использования команды <code>return</code>. Эта команда позволяет функции *вернуть* результат, который затем можно сохранить в переменной, или использовать любым другим способом.\n",
        "\n",
        "### Пример 3: Функция сложения"
      ]
    },
    {
      "cell_type": "code",
      "execution_count": null,
      "metadata": {
        "collapsed": true,
        "id": "69UVqyd8T9sb"
      },
      "outputs": [],
      "source": [
        "def add_num(a,b):\n",
        "    return a+b"
      ]
    },
    {
      "cell_type": "code",
      "execution_count": null,
      "metadata": {
        "colab": {
          "base_uri": "https://localhost:8080/"
        },
        "id": "xwA3ftlbT9sb",
        "outputId": "087527a4-a003-455b-c252-48d9c1fbadf7"
      },
      "outputs": [
        {
          "output_type": "execute_result",
          "data": {
            "text/plain": [
              "9"
            ]
          },
          "metadata": {},
          "execution_count": 13
        }
      ],
      "source": [
        "add_num(4,5)"
      ]
    },
    {
      "cell_type": "code",
      "execution_count": null,
      "metadata": {
        "collapsed": true,
        "id": "Lm3F9PaIT9sb"
      },
      "outputs": [],
      "source": [
        "# Мы также можем сохранить результат, который возвращает функция, в переменную\n",
        "result = add_num(4,5)"
      ]
    },
    {
      "cell_type": "code",
      "execution_count": null,
      "metadata": {
        "colab": {
          "base_uri": "https://localhost:8080/"
        },
        "id": "KeEbEjJmT9sc",
        "outputId": "fd248e49-1e3f-4081-fb53-d4909c458341"
      },
      "outputs": [
        {
          "output_type": "stream",
          "name": "stdout",
          "text": [
            "9\n"
          ]
        }
      ],
      "source": [
        "print(result)"
      ]
    },
    {
      "cell_type": "markdown",
      "metadata": {
        "id": "U72qvmxAT9sc"
      },
      "source": [
        "Что произойдет, если мы укажем две строки?"
      ]
    },
    {
      "cell_type": "code",
      "execution_count": null,
      "metadata": {
        "colab": {
          "base_uri": "https://localhost:8080/",
          "height": 35
        },
        "id": "Cf0qyy_GT9sc",
        "outputId": "0547d93e-6711-44d5-8fa2-b46361e249a3"
      },
      "outputs": [
        {
          "output_type": "execute_result",
          "data": {
            "text/plain": [
              "'onetwo'"
            ],
            "application/vnd.google.colaboratory.intrinsic+json": {
              "type": "string"
            }
          },
          "metadata": {},
          "execution_count": 15
        }
      ],
      "source": [
        "add_num('one','two')"
      ]
    },
    {
      "cell_type": "markdown",
      "metadata": {
        "id": "VODDVKTrT9sc"
      },
      "source": [
        "Обратите внимание, что поскольку мы не указываем типы переменных в Python, эта функция может использоваться для сложения как чисел, так и последовательностей! Позже мы посмотрим, как можно проверять корректность параметров для функции.\n",
        "\n",
        "Также давайте начнём использовать команды <code>break</code>, <code>continue</code> и <code>pass</code>. Мы уже видели их в лекции про циклы <code>while</code>."
      ]
    },
    {
      "cell_type": "markdown",
      "metadata": {
        "collapsed": true,
        "id": "rqMkdqkHT9sd"
      },
      "source": [
        "Давайте рассмотрим пример создания функции для проверки того, является ли число простым (это частое задание на собеседовании).\n",
        "\n",
        "Число является простым, если оно делится нацело только на 1 и на само себя. Давайте напишем первую версию функции, в которой проверим все числа от 1 до N и проверим остаток от деления."
      ]
    },
    {
      "cell_type": "code",
      "execution_count": null,
      "metadata": {
        "collapsed": true,
        "id": "ey6RCnhiT9sd"
      },
      "outputs": [],
      "source": [
        "def is_prime(num):\n",
        "    '''\n",
        "    Наивный метод проверки простых чисел.\n",
        "    '''\n",
        "    for n in range(2,num):\n",
        "        if num % n == 0:\n",
        "            print(num,'не является простым')\n",
        "            break\n",
        "    else: # Если остаток никогда не был равен нулю, то число простое\n",
        "        print(num,'является простым!')"
      ]
    },
    {
      "cell_type": "code",
      "execution_count": null,
      "metadata": {
        "colab": {
          "base_uri": "https://localhost:8080/"
        },
        "id": "mx7XzDSST9sd",
        "outputId": "cc074ce7-4e70-42f5-88d6-3abb1c4b0da1"
      },
      "outputs": [
        {
          "output_type": "execute_result",
          "data": {
            "text/plain": [
              "(16, 'не является простым')"
            ]
          },
          "metadata": {},
          "execution_count": 8
        }
      ],
      "source": [
        "is_prime(16)"
      ]
    },
    {
      "cell_type": "code",
      "execution_count": null,
      "metadata": {
        "colab": {
          "base_uri": "https://localhost:8080/"
        },
        "id": "_hD2MTLWT9sd",
        "outputId": "e8f97a04-f930-420c-b68d-2e06dfb6aaaf"
      },
      "outputs": [
        {
          "output_type": "stream",
          "name": "stdout",
          "text": [
            "17 является простым!\n"
          ]
        }
      ],
      "source": [
        "is_prime(17)"
      ]
    },
    {
      "cell_type": "markdown",
      "metadata": {
        "id": "yzYw7EVhT9sd"
      },
      "source": [
        "Обратите внимание, что <code>else</code> расположен (выровнен отступами) под <code>for</code>, а не под <code>if</code>. Это потому что мы хотим, чтобы цикл <code>for</code> перебрал все возможные варианты в диапазоне перед тем, как сказать, что число простое.\n",
        "\n",
        "Также обратите внимание, что мы выполняем команду break после первой команды print. То есть, как только мы поняли, что число не является простым, мы выходим из цикла <code>for</code>.\n",
        "\n",
        "На самом деле мы можем улучшить эту функцию, проверяя числа только до квадратного корня от целевого числа, а также отбрасывая все чётные числа после проверки числа 2. Мы также перейдём на возврат значения boolean, чтобы посмотреть пример команды return:"
      ]
    },
    {
      "cell_type": "code",
      "execution_count": null,
      "metadata": {
        "collapsed": true,
        "id": "bMsrd71-T9se"
      },
      "outputs": [],
      "source": [
        "import math\n",
        "\n",
        "def is_prime2(num):\n",
        "    '''\n",
        "    Улучшенный метод проверки простых чисел.\n",
        "    '''\n",
        "    if num % 2 == 0 and num > 2:\n",
        "        return False\n",
        "    for i in range(3, int(math.sqrt(num)) + 1, 2):\n",
        "        if num % i == 0:\n",
        "            return False\n",
        "    return True"
      ]
    },
    {
      "cell_type": "code",
      "execution_count": null,
      "metadata": {
        "id": "0oYiXfjPT9se",
        "outputId": "c8105709-0331-402d-ddd7-1d404ba1ade6"
      },
      "outputs": [
        {
          "data": {
            "text/plain": [
              "False"
            ]
          },
          "execution_count": 15,
          "metadata": {},
          "output_type": "execute_result"
        }
      ],
      "source": [
        "is_prime2(18)"
      ]
    },
    {
      "cell_type": "markdown",
      "metadata": {
        "id": "Un7ve6d1T9se"
      },
      "source": [
        "Почему здесь нет команды <code>break</code>? Дело в том, что как только функция *возвращает* что-то с помощью return, она завершает свою работу. Функция может выполнить несколько команд print, но только одну команду <code>return</code>."
      ]
    },
    {
      "cell_type": "markdown",
      "metadata": {
        "id": "TEEQxrTjT9se"
      },
      "source": [
        "## Задания"
      ]
    },
    {
      "cell_type": "markdown",
      "metadata": {
        "id": "bOIYOAk7T9se"
      },
      "source": [
        "#### \"Меньшее из двух чётных чисел\": Напишите функцию, которая возвращает меньшее из двух чисел, *если* оба эти числа чётные. Иначе возвращает большее из двух чисел, если одно или оба числа нечётные.\n",
        "    lesser_of_two_evens(2,4) --> 2\n",
        "    lesser_of_two_evens(2,5) --> 5"
      ]
    },
    {
      "cell_type": "code",
      "execution_count": 1,
      "metadata": {
        "collapsed": true,
        "id": "9pjtAdIZT9se"
      },
      "outputs": [],
      "source": [
        "def lesser_of_two_evens(a,b):\n",
        "  if a%2 == 0 and b%2 ==0:\n",
        "    print (min(a,b))\n",
        "  else:\n",
        "    print (max (a, b))"
      ]
    },
    {
      "cell_type": "code",
      "execution_count": 2,
      "metadata": {
        "collapsed": true,
        "id": "u-xWAyt2T9se",
        "colab": {
          "base_uri": "https://localhost:8080/"
        },
        "outputId": "30914f6d-2d95-4e8d-dac5-4e62bd4de4fc"
      },
      "outputs": [
        {
          "output_type": "stream",
          "name": "stdout",
          "text": [
            "2\n"
          ]
        }
      ],
      "source": [
        "# проверка\n",
        "lesser_of_two_evens(2,4)"
      ]
    },
    {
      "cell_type": "code",
      "execution_count": 3,
      "metadata": {
        "collapsed": true,
        "id": "uqC3dXd6T9sf",
        "colab": {
          "base_uri": "https://localhost:8080/"
        },
        "outputId": "5613f557-f94a-4ddd-c20f-b075272c5a9e"
      },
      "outputs": [
        {
          "output_type": "stream",
          "name": "stdout",
          "text": [
            "5\n"
          ]
        }
      ],
      "source": [
        "# проверка\n",
        "lesser_of_two_evens(2,5)"
      ]
    },
    {
      "cell_type": "markdown",
      "metadata": {
        "id": "4Z7m5sRKT9sf"
      },
      "source": [
        "#### animal_crackers: Напишите функцию, которая получает на входе строку из двух слов, и возвращает True если оба слова начинаются с одной и той же буквы.\n",
        "    animal_crackers('Levelheaded Llama') --> True\n",
        "    animal_crackers('Crazy Kangaroo') --> False"
      ]
    },
    {
      "cell_type": "code",
      "execution_count": 4,
      "metadata": {
        "collapsed": true,
        "id": "Ho60esWhT9sf"
      },
      "outputs": [],
      "source": [
        "def animal_crackers(text):\n",
        "   for x in text:\n",
        "    if x == ' L' or x == \"L\":\n",
        "      return True\n",
        "    else:\n",
        "      return False"
      ]
    },
    {
      "cell_type": "code",
      "execution_count": 5,
      "metadata": {
        "collapsed": true,
        "id": "nlc7ZspNT9sf",
        "colab": {
          "base_uri": "https://localhost:8080/"
        },
        "outputId": "eb907ec5-9b57-4f04-a2ec-c7baf8e5ce43"
      },
      "outputs": [
        {
          "output_type": "execute_result",
          "data": {
            "text/plain": [
              "True"
            ]
          },
          "metadata": {},
          "execution_count": 5
        }
      ],
      "source": [
        "# проверка\n",
        "animal_crackers('Levelheaded Llama')"
      ]
    },
    {
      "cell_type": "code",
      "execution_count": 6,
      "metadata": {
        "collapsed": true,
        "id": "XtNTw7zET9sf",
        "colab": {
          "base_uri": "https://localhost:8080/"
        },
        "outputId": "763be549-8ca9-4d2b-88a0-a72ee90e3b2a"
      },
      "outputs": [
        {
          "output_type": "execute_result",
          "data": {
            "text/plain": [
              "False"
            ]
          },
          "metadata": {},
          "execution_count": 6
        }
      ],
      "source": [
        "# проверка\n",
        "animal_crackers('Crazy Kangaroo')"
      ]
    },
    {
      "cell_type": "markdown",
      "metadata": {
        "id": "qkbWLVmLT9sg"
      },
      "source": [
        "#### makes_twenty: На входе два числа, функция возвращает True если сумма этих чисел равна 20, *или* если одно из чисел равно 20. В противном случае, возвращает False.\n",
        "\n",
        "    makes_twenty(20,10) --> True\n",
        "    makes_twenty(12,8) --> True\n",
        "    makes_twenty(2,3) --> False"
      ]
    },
    {
      "cell_type": "code",
      "execution_count": 8,
      "metadata": {
        "collapsed": true,
        "id": "D-dG67quT9sg"
      },
      "outputs": [],
      "source": [
        "def makes_twenty(n1,n2):\n",
        "    if n1+n2 == 20 or n1 == 20 or n2 == 20:\n",
        "      return True\n",
        "    else:\n",
        "      return False"
      ]
    },
    {
      "cell_type": "code",
      "execution_count": 11,
      "metadata": {
        "collapsed": true,
        "id": "Y69nZai8T9sg",
        "colab": {
          "base_uri": "https://localhost:8080/"
        },
        "outputId": "77a73e15-7ce6-42a2-c865-ba54d1f6474b"
      },
      "outputs": [
        {
          "output_type": "execute_result",
          "data": {
            "text/plain": [
              "True"
            ]
          },
          "metadata": {},
          "execution_count": 11
        }
      ],
      "source": [
        "# проверка\n",
        "makes_twenty(20,10)"
      ]
    },
    {
      "cell_type": "code",
      "source": [
        "makes_twenty(12,8)"
      ],
      "metadata": {
        "colab": {
          "base_uri": "https://localhost:8080/"
        },
        "id": "rmaTeK08H6wH",
        "outputId": "b25fa5a7-4faa-4f43-b5ba-f0b8277d3709"
      },
      "execution_count": 10,
      "outputs": [
        {
          "output_type": "execute_result",
          "data": {
            "text/plain": [
              "True"
            ]
          },
          "metadata": {},
          "execution_count": 10
        }
      ]
    },
    {
      "cell_type": "code",
      "execution_count": 12,
      "metadata": {
        "id": "ix7wg-UCT9si",
        "colab": {
          "base_uri": "https://localhost:8080/"
        },
        "outputId": "d7d27ce8-7b0f-4719-e138-594f1f563b19"
      },
      "outputs": [
        {
          "output_type": "execute_result",
          "data": {
            "text/plain": [
              "False"
            ]
          },
          "metadata": {},
          "execution_count": 12
        }
      ],
      "source": [
        "# проверка\n",
        "makes_twenty(2,3)"
      ]
    },
    {
      "cell_type": "markdown",
      "metadata": {
        "id": "jFrbtFdgT9si"
      },
      "source": [
        "#### OLD MACDONALD: Напишите функцию, которая переводит в верхний регистр первую и четвёртую буквы имени.\n",
        "     \n",
        "    old_macdonald('macdonald') --> MacDonald\n",
        "    \n",
        "Замечание: `'macdonald'.capitalize()` возвращает `'Macdonald'`"
      ]
    },
    {
      "cell_type": "code",
      "execution_count": 13,
      "metadata": {
        "collapsed": true,
        "id": "8uM0khFOT9si"
      },
      "outputs": [],
      "source": [
        "def old_macdonald(name):\n",
        "    i = list(name)\n",
        "    if len(i) > 0:\n",
        "        i[0] = i[0].upper()\n",
        "    if len(i) > 3:\n",
        "        i[3] = i[3].upper()\n",
        "    return ''.join(i)"
      ]
    },
    {
      "cell_type": "code",
      "execution_count": 14,
      "metadata": {
        "collapsed": true,
        "id": "yaWK0UPyT9si",
        "colab": {
          "base_uri": "https://localhost:8080/",
          "height": 35
        },
        "outputId": "62e41690-3cf9-42d9-8743-f4770cf46630"
      },
      "outputs": [
        {
          "output_type": "execute_result",
          "data": {
            "text/plain": [
              "'MacDonald'"
            ],
            "application/vnd.google.colaboratory.intrinsic+json": {
              "type": "string"
            }
          },
          "metadata": {},
          "execution_count": 14
        }
      ],
      "source": [
        "# проверка\n",
        "old_macdonald('macdonald')"
      ]
    },
    {
      "cell_type": "markdown",
      "metadata": {
        "id": "Th9fCgfGT9si"
      },
      "source": [
        "#### master_yoda: На входе фраза, на выходе вернуть слова в обратном порядке.\n",
        "\n",
        "    master_yoda('I am home') --> 'home am I'\n",
        "    master_yoda('We are ready') --> 'ready are We'\n",
        "    \n",
        "Замечание: здесь может пригодиться метод .join(). Этот метод позволяет соединять строки, используя определенный разделитель. Вот пример для метода .join():\n",
        "\n",
        "    >>> \"--\".join(['a','b','c'])\n",
        "    >>> 'a--b--c'\n",
        "\n",
        "Это значит, что если у Вас есть список слов и Вы хотите составить из них фразу, то можно соединить их, используя в качестве разделителя пробел:\n",
        "\n",
        "    >>> \" \".join(['Hello','world'])\n",
        "    >>> \"Hello world\""
      ]
    },
    {
      "cell_type": "code",
      "execution_count": 15,
      "metadata": {
        "collapsed": true,
        "id": "90CNHi2AT9sj"
      },
      "outputs": [],
      "source": [
        "def master_yoda(text):\n",
        "  pupu = list (text)\n",
        "  pu1 = pupu [::-1]\n",
        "  return ''.join(pu1)"
      ]
    },
    {
      "cell_type": "code",
      "execution_count": 16,
      "metadata": {
        "collapsed": true,
        "id": "ZTbDOh3UT9sj",
        "colab": {
          "base_uri": "https://localhost:8080/",
          "height": 35
        },
        "outputId": "48abd9e9-91e5-41a2-b9c4-c16a879d5bc3"
      },
      "outputs": [
        {
          "output_type": "execute_result",
          "data": {
            "text/plain": [
              "'emoh ma I'"
            ],
            "application/vnd.google.colaboratory.intrinsic+json": {
              "type": "string"
            }
          },
          "metadata": {},
          "execution_count": 16
        }
      ],
      "source": [
        "# проверка\n",
        "master_yoda('I am home')"
      ]
    },
    {
      "cell_type": "code",
      "execution_count": 17,
      "metadata": {
        "collapsed": true,
        "id": "wxLaCnA8T9sj",
        "colab": {
          "base_uri": "https://localhost:8080/",
          "height": 35
        },
        "outputId": "d7627af3-301b-4047-b57f-b043cc9610a9"
      },
      "outputs": [
        {
          "output_type": "execute_result",
          "data": {
            "text/plain": [
              "'ydaer era eW'"
            ],
            "application/vnd.google.colaboratory.intrinsic+json": {
              "type": "string"
            }
          },
          "metadata": {},
          "execution_count": 17
        }
      ],
      "source": [
        "# проверка\n",
        "master_yoda('We are ready')"
      ]
    },
    {
      "cell_type": "markdown",
      "metadata": {
        "id": "5b1o8UrIT9sj"
      },
      "source": [
        "#### almost_there: на входе число n, вернуть True если n находится не далее чем на 10 от чисел 100 или 200.\n",
        "\n",
        "    almost_there(90) --> True\n",
        "    almost_there(104) --> True\n",
        "    almost_there(150) --> False\n",
        "    almost_there(209) --> True\n",
        "    \n",
        "Замечание: `abs(num)` возвращает абсолютное значение числа"
      ]
    },
    {
      "cell_type": "code",
      "execution_count": 19,
      "metadata": {
        "collapsed": true,
        "id": "FfUTXy9_T9sj"
      },
      "outputs": [],
      "source": [
        "def almost_there(n):\n",
        "    if 90<=n<=110 or 190<=n<=210:\n",
        "      return True\n",
        "    else:\n",
        "      return False"
      ]
    },
    {
      "cell_type": "code",
      "execution_count": 20,
      "metadata": {
        "collapsed": true,
        "id": "lcoe64_DT9sk",
        "colab": {
          "base_uri": "https://localhost:8080/"
        },
        "outputId": "e28d6774-8efb-4fd8-ed07-266ac026163f"
      },
      "outputs": [
        {
          "output_type": "execute_result",
          "data": {
            "text/plain": [
              "True"
            ]
          },
          "metadata": {},
          "execution_count": 20
        }
      ],
      "source": [
        "# проверка\n",
        "almost_there(104)"
      ]
    },
    {
      "cell_type": "code",
      "execution_count": 21,
      "metadata": {
        "collapsed": true,
        "id": "gLwZQdNBT9sk",
        "colab": {
          "base_uri": "https://localhost:8080/"
        },
        "outputId": "44a7e909-429b-4bb2-dd13-fec5fb60a36c"
      },
      "outputs": [
        {
          "output_type": "execute_result",
          "data": {
            "text/plain": [
              "False"
            ]
          },
          "metadata": {},
          "execution_count": 21
        }
      ],
      "source": [
        "# проверка\n",
        "almost_there(150)"
      ]
    },
    {
      "cell_type": "code",
      "execution_count": 22,
      "metadata": {
        "collapsed": true,
        "id": "NOVv5V6_T9sk",
        "colab": {
          "base_uri": "https://localhost:8080/"
        },
        "outputId": "96e431be-50b1-4c60-839d-9fb1c621f727"
      },
      "outputs": [
        {
          "output_type": "execute_result",
          "data": {
            "text/plain": [
              "True"
            ]
          },
          "metadata": {},
          "execution_count": 22
        }
      ],
      "source": [
        "# проверка\n",
        "almost_there(209)"
      ]
    },
    {
      "cell_type": "markdown",
      "metadata": {
        "id": "nhyPc2ZkT9sk"
      },
      "source": [
        "#### Найти 33: На входе список чисел, вернуть True если массив содержит где-нибудь 3 рядом с 3.\n",
        "\n",
        "    has_33([1, 3, 3]) → True\n",
        "    has_33([1, 3, 1, 3]) → False\n",
        "    has_33([3, 1, 3]) → False"
      ]
    },
    {
      "cell_type": "code",
      "execution_count": 30,
      "metadata": {
        "collapsed": true,
        "id": "hG4HmHLiT9sk"
      },
      "outputs": [],
      "source": [
        "def has_33(nums):\n",
        "    for i in range(len(nums)-1):\n",
        "      if nums[i] == 3 and nums[i+1] == 3:\n",
        "        return True\n",
        "    return False"
      ]
    },
    {
      "cell_type": "code",
      "execution_count": 31,
      "metadata": {
        "collapsed": true,
        "id": "J2MXYQaTT9sk",
        "colab": {
          "base_uri": "https://localhost:8080/"
        },
        "outputId": "e524fb76-4d82-467c-da2e-0912bac95ae7"
      },
      "outputs": [
        {
          "output_type": "execute_result",
          "data": {
            "text/plain": [
              "True"
            ]
          },
          "metadata": {},
          "execution_count": 31
        }
      ],
      "source": [
        "# проверка\n",
        "has_33([1, 3, 3])"
      ]
    },
    {
      "cell_type": "code",
      "execution_count": 32,
      "metadata": {
        "collapsed": true,
        "id": "fNNYgR5aT9sl",
        "colab": {
          "base_uri": "https://localhost:8080/"
        },
        "outputId": "de1e94c6-1358-4567-f32c-ea2c1a720233"
      },
      "outputs": [
        {
          "output_type": "execute_result",
          "data": {
            "text/plain": [
              "False"
            ]
          },
          "metadata": {},
          "execution_count": 32
        }
      ],
      "source": [
        "# проверка\n",
        "has_33([1, 3, 1, 3])"
      ]
    },
    {
      "cell_type": "code",
      "execution_count": 33,
      "metadata": {
        "collapsed": true,
        "id": "dp-0BGRST9sl",
        "colab": {
          "base_uri": "https://localhost:8080/"
        },
        "outputId": "792d421e-fb69-4406-93c9-4e683c697406"
      },
      "outputs": [
        {
          "output_type": "execute_result",
          "data": {
            "text/plain": [
              "False"
            ]
          },
          "metadata": {},
          "execution_count": 33
        }
      ],
      "source": [
        "# проверка\n",
        "has_33 ([3, 1, 3])"
      ]
    },
    {
      "cell_type": "markdown",
      "metadata": {
        "id": "Dj4IFeDBT9sl"
      },
      "source": [
        "#### blackjack: На входе три числа от 1 до 11. Если их сумма меньше или равна 21, то вернуть их сумму. Если сумма больше 21 *и* среди чисел есть 11, то уменьшить общую сумму на 10. И наконец, если сумма (в том числе после уменьшения) превышает 21, вернуть 'BUST'.\n",
        "    blackjack(5,6,7) --> 18\n",
        "    blackjack(9,9,9) --> 'BUST'\n",
        "    blackjack(9,9,11) --> 19"
      ]
    },
    {
      "cell_type": "code",
      "execution_count": 58,
      "metadata": {
        "collapsed": true,
        "id": "f5T19iQLT9sl"
      },
      "outputs": [],
      "source": [
        "def blackjack(a,b,c):\n",
        "    sum = a+b+c\n",
        "    if sum<=21:\n",
        "      return sum\n",
        "    if sum> 21 and (a==11 or b==11 or c==11):\n",
        "      sum -=10\n",
        "    if sum>21:\n",
        "      return 'Bust'\n",
        "    return sum\n"
      ]
    },
    {
      "cell_type": "code",
      "execution_count": 59,
      "metadata": {
        "collapsed": true,
        "id": "P_XGl39LT9sl",
        "colab": {
          "base_uri": "https://localhost:8080/"
        },
        "outputId": "c2d13168-e2d3-4350-c2c8-35efcf0027c1"
      },
      "outputs": [
        {
          "output_type": "execute_result",
          "data": {
            "text/plain": [
              "18"
            ]
          },
          "metadata": {},
          "execution_count": 59
        }
      ],
      "source": [
        "# проверка\n",
        "blackjack(5,6,7)"
      ]
    },
    {
      "cell_type": "code",
      "execution_count": 60,
      "metadata": {
        "collapsed": true,
        "id": "X7968fepT9sm",
        "colab": {
          "base_uri": "https://localhost:8080/",
          "height": 35
        },
        "outputId": "fa4fe718-1955-4a59-ca7c-4d9dde003606"
      },
      "outputs": [
        {
          "output_type": "execute_result",
          "data": {
            "text/plain": [
              "'Bust'"
            ],
            "application/vnd.google.colaboratory.intrinsic+json": {
              "type": "string"
            }
          },
          "metadata": {},
          "execution_count": 60
        }
      ],
      "source": [
        "# проверка\n",
        "blackjack(9,9,9)"
      ]
    },
    {
      "cell_type": "code",
      "execution_count": 61,
      "metadata": {
        "collapsed": true,
        "id": "_2kv_L9PT9sm",
        "colab": {
          "base_uri": "https://localhost:8080/"
        },
        "outputId": "b7436b01-eb05-4405-b7ec-b7009495418e"
      },
      "outputs": [
        {
          "output_type": "execute_result",
          "data": {
            "text/plain": [
              "19"
            ]
          },
          "metadata": {},
          "execution_count": 61
        }
      ],
      "source": [
        "# проверка\n",
        "blackjack(9,9,11)"
      ]
    },
    {
      "cell_type": "markdown",
      "metadata": {
        "id": "XHFHB6XfT9sm"
      },
      "source": [
        "#### summer_69: Вернуть сумму чисел в массиве, кроме набора чисел который начинается с 6 и продолжается до 9 (для каждого числа 6 далее где-то будет число 9). Вернуть 0 если чисел нет.\n",
        "\n",
        "    summer_69([1, 3, 5]) --> 9\n",
        "    summer_69([4, 5, 6, 7, 8, 9]) --> 9\n",
        "    summer_69([2, 1, 6, 9, 11]) --> 14"
      ]
    },
    {
      "cell_type": "code",
      "execution_count": 68,
      "metadata": {
        "collapsed": true,
        "id": "nGkP4-BHT9sm"
      },
      "outputs": [],
      "source": [
        "def summer_69(arr):\n",
        "  sum=0\n",
        "  skip = False\n",
        "  for num in arr:\n",
        "    if num == 6:\n",
        "      skip = True\n",
        "    elif num ==9 and skip == True:\n",
        "      skip = False\n",
        "    elif skip == False:\n",
        "      sum+=num\n",
        "  return sum"
      ]
    },
    {
      "cell_type": "code",
      "execution_count": 69,
      "metadata": {
        "collapsed": true,
        "id": "3rc44tF7T9sm",
        "colab": {
          "base_uri": "https://localhost:8080/"
        },
        "outputId": "e82f0d8a-7dd8-45a7-9120-02d0aac1ecdc"
      },
      "outputs": [
        {
          "output_type": "execute_result",
          "data": {
            "text/plain": [
              "9"
            ]
          },
          "metadata": {},
          "execution_count": 69
        }
      ],
      "source": [
        "# проверка\n",
        "summer_69([1, 3, 5])"
      ]
    },
    {
      "cell_type": "code",
      "execution_count": 70,
      "metadata": {
        "collapsed": true,
        "id": "6FIA7LYnT9sm",
        "colab": {
          "base_uri": "https://localhost:8080/"
        },
        "outputId": "7451932d-3c35-4266-9999-efef0ea0d263"
      },
      "outputs": [
        {
          "output_type": "execute_result",
          "data": {
            "text/plain": [
              "9"
            ]
          },
          "metadata": {},
          "execution_count": 70
        }
      ],
      "source": [
        "# проверка\n",
        "summer_69([4, 5, 6, 7, 8, 9])"
      ]
    },
    {
      "cell_type": "code",
      "execution_count": 71,
      "metadata": {
        "collapsed": true,
        "id": "Dthtps3YT9sn",
        "colab": {
          "base_uri": "https://localhost:8080/"
        },
        "outputId": "2e0e1797-dd18-4cb0-a558-1d593a3ece46"
      },
      "outputs": [
        {
          "output_type": "execute_result",
          "data": {
            "text/plain": [
              "14"
            ]
          },
          "metadata": {},
          "execution_count": 71
        }
      ],
      "source": [
        "# проверка\n",
        "summer_69([2, 1, 6, 9, 11])"
      ]
    }
  ],
  "metadata": {
    "kernelspec": {
      "display_name": "Python 3 (ipykernel)",
      "language": "python",
      "name": "python3"
    },
    "language_info": {
      "codemirror_mode": {
        "name": "ipython",
        "version": 3
      },
      "file_extension": ".py",
      "mimetype": "text/x-python",
      "name": "python",
      "nbconvert_exporter": "python",
      "pygments_lexer": "ipython3",
      "version": "3.9.13"
    },
    "colab": {
      "provenance": []
    }
  },
  "nbformat": 4,
  "nbformat_minor": 0
}