{
  "cells": [
    {
      "cell_type": "markdown",
      "id": "3402ff55",
      "metadata": {
        "id": "3402ff55"
      },
      "source": [
        "# 06 Списки (Lists)\n",
        "\n",
        "Списки - это наиболее общая версия последовательностей в Python. В отличие от строк, списки можно менять - элементы внутри списка можно менять!\n",
        "\n",
        "Мы изучим следующие темы:\n",
        "    \n",
        "    1) Создание списков\n",
        "    2) Индексирование списков и разбиение их на части\n",
        "    3) Основные методы для списков\n",
        "    4) Вложенные списки\n",
        "    5) Введение в генераторы списков (List Comprehensions)\n",
        "\n",
        "Списки создаются с помощью скобок [ ], элементы списка отделяются друг от друга запятыми.\n",
        "\n",
        "Давайте посмотрим, как можно создавать списки!"
      ]
    },
    {
      "cell_type": "code",
      "execution_count": 31,
      "id": "280aa4eb",
      "metadata": {
        "id": "280aa4eb"
      },
      "outputs": [],
      "source": [
        "# Присвоить переменной my_list список\n",
        "my_list = [1,2,3]"
      ]
    },
    {
      "cell_type": "markdown",
      "id": "6ec8e2d7",
      "metadata": {
        "id": "6ec8e2d7"
      },
      "source": [
        "Мы создали список целых чисел, но на самом деле списки могут содержать элементы разных типов. Например:"
      ]
    },
    {
      "cell_type": "code",
      "execution_count": 32,
      "id": "80960b76",
      "metadata": {
        "id": "80960b76"
      },
      "outputs": [],
      "source": [
        "my_list = ['A string',23,100.232,'o']"
      ]
    },
    {
      "cell_type": "markdown",
      "id": "d07f74bc",
      "metadata": {
        "id": "d07f74bc"
      },
      "source": [
        "Как и для строк, узнать количество элементов в списке можно с помощью функции len()."
      ]
    },
    {
      "cell_type": "code",
      "execution_count": 33,
      "id": "40eef44e",
      "metadata": {
        "colab": {
          "base_uri": "https://localhost:8080/"
        },
        "id": "40eef44e",
        "outputId": "62edd9d3-0764-4b9a-9653-ec52c91b3237"
      },
      "outputs": [
        {
          "output_type": "execute_result",
          "data": {
            "text/plain": [
              "4"
            ]
          },
          "metadata": {},
          "execution_count": 33
        }
      ],
      "source": [
        "len(my_list)"
      ]
    },
    {
      "cell_type": "markdown",
      "id": "0da47673",
      "metadata": {
        "id": "0da47673"
      },
      "source": [
        "### Индексирование и разбиение на части\n",
        "Индексирование и разбиение на части работает точно так же, как и для строк. Давайте создадим новый список и напомним себе, как это работает:"
      ]
    },
    {
      "cell_type": "code",
      "execution_count": 34,
      "id": "61c4ac37",
      "metadata": {
        "id": "61c4ac37"
      },
      "outputs": [],
      "source": [
        "my_list = ['one','two','three',4,5]"
      ]
    },
    {
      "cell_type": "code",
      "execution_count": 35,
      "id": "2b689dea",
      "metadata": {
        "colab": {
          "base_uri": "https://localhost:8080/",
          "height": 35
        },
        "id": "2b689dea",
        "outputId": "619f3d0d-f030-4b61-ba16-6a36b3a3c371"
      },
      "outputs": [
        {
          "output_type": "execute_result",
          "data": {
            "text/plain": [
              "'one'"
            ],
            "application/vnd.google.colaboratory.intrinsic+json": {
              "type": "string"
            }
          },
          "metadata": {},
          "execution_count": 35
        }
      ],
      "source": [
        "# Берём элемент на позиции 0\n",
        "my_list[0]"
      ]
    },
    {
      "cell_type": "code",
      "execution_count": 36,
      "id": "4ec9950b",
      "metadata": {
        "colab": {
          "base_uri": "https://localhost:8080/"
        },
        "id": "4ec9950b",
        "outputId": "1a09761a-0f9c-40cf-ee0c-e69f3fba8b50"
      },
      "outputs": [
        {
          "output_type": "execute_result",
          "data": {
            "text/plain": [
              "['two', 'three', 4, 5]"
            ]
          },
          "metadata": {},
          "execution_count": 36
        }
      ],
      "source": [
        "# Берём позицию 1 и всё что после нее\n",
        "my_list[1:]"
      ]
    },
    {
      "cell_type": "code",
      "execution_count": 37,
      "id": "4fa75f83",
      "metadata": {
        "colab": {
          "base_uri": "https://localhost:8080/"
        },
        "id": "4fa75f83",
        "outputId": "b9e81e0b-3b68-49cd-f3bb-ea8e5cdcb1f4"
      },
      "outputs": [
        {
          "output_type": "execute_result",
          "data": {
            "text/plain": [
              "['one', 'two', 'three']"
            ]
          },
          "metadata": {},
          "execution_count": 37
        }
      ],
      "source": [
        "# Берём всё ДО позиции 3\n",
        "my_list[:3]"
      ]
    },
    {
      "cell_type": "markdown",
      "id": "055e5cb6",
      "metadata": {
        "id": "055e5cb6"
      },
      "source": [
        "Как и для строк, для списков можно использовать + для конкатенации списков."
      ]
    },
    {
      "cell_type": "code",
      "execution_count": 38,
      "id": "a861e389",
      "metadata": {
        "colab": {
          "base_uri": "https://localhost:8080/"
        },
        "id": "a861e389",
        "outputId": "a208659d-f2db-4e86-e595-ea24b9791365"
      },
      "outputs": [
        {
          "output_type": "execute_result",
          "data": {
            "text/plain": [
              "['one', 'two', 'three', 4, 5, 'new item']"
            ]
          },
          "metadata": {},
          "execution_count": 38
        }
      ],
      "source": [
        "my_list + ['new item']"
      ]
    },
    {
      "cell_type": "markdown",
      "id": "5dcf17b1",
      "metadata": {
        "id": "5dcf17b1"
      },
      "source": [
        "Обратите внимание: сам список my_list при этом не поменялся!"
      ]
    },
    {
      "cell_type": "code",
      "execution_count": 39,
      "id": "a129182f",
      "metadata": {
        "colab": {
          "base_uri": "https://localhost:8080/"
        },
        "id": "a129182f",
        "outputId": "b25241fc-08cf-42fe-fd60-135d42a200ab"
      },
      "outputs": [
        {
          "output_type": "execute_result",
          "data": {
            "text/plain": [
              "['one', 'two', 'three', 4, 5]"
            ]
          },
          "metadata": {},
          "execution_count": 39
        }
      ],
      "source": [
        "my_list"
      ]
    },
    {
      "cell_type": "markdown",
      "id": "a535b37e",
      "metadata": {
        "id": "a535b37e"
      },
      "source": [
        "Если нужно поменять изначальный список, то можно переопределить список."
      ]
    },
    {
      "cell_type": "code",
      "execution_count": 40,
      "id": "96e31769",
      "metadata": {
        "id": "96e31769"
      },
      "outputs": [],
      "source": [
        "# Указываем новое значение\n",
        "my_list = my_list + ['add new item permanently']"
      ]
    },
    {
      "cell_type": "code",
      "execution_count": 41,
      "id": "1ca93caf",
      "metadata": {
        "colab": {
          "base_uri": "https://localhost:8080/"
        },
        "id": "1ca93caf",
        "outputId": "0d730358-7bb0-49ff-ded9-8a63b26e4cb7"
      },
      "outputs": [
        {
          "output_type": "execute_result",
          "data": {
            "text/plain": [
              "['one', 'two', 'three', 4, 5, 'add new item permanently']"
            ]
          },
          "metadata": {},
          "execution_count": 41
        }
      ],
      "source": [
        "my_list"
      ]
    },
    {
      "cell_type": "markdown",
      "id": "6d37363e",
      "metadata": {
        "id": "6d37363e"
      },
      "source": [
        "Также можно использовать * для дублирования, как и для строк:"
      ]
    },
    {
      "cell_type": "code",
      "execution_count": 42,
      "id": "ffe30789",
      "metadata": {
        "colab": {
          "base_uri": "https://localhost:8080/"
        },
        "id": "ffe30789",
        "outputId": "620a6d4c-3570-4b93-8402-5b6860bceb13"
      },
      "outputs": [
        {
          "output_type": "execute_result",
          "data": {
            "text/plain": [
              "['one',\n",
              " 'two',\n",
              " 'three',\n",
              " 4,\n",
              " 5,\n",
              " 'add new item permanently',\n",
              " 'one',\n",
              " 'two',\n",
              " 'three',\n",
              " 4,\n",
              " 5,\n",
              " 'add new item permanently']"
            ]
          },
          "metadata": {},
          "execution_count": 42
        }
      ],
      "source": [
        "# Make the list double\n",
        "my_list * 2"
      ]
    },
    {
      "cell_type": "code",
      "execution_count": 43,
      "id": "069d9dcf",
      "metadata": {
        "colab": {
          "base_uri": "https://localhost:8080/"
        },
        "id": "069d9dcf",
        "outputId": "45c721f3-7377-4ccb-bf2b-9d5d6882e3c3"
      },
      "outputs": [
        {
          "output_type": "execute_result",
          "data": {
            "text/plain": [
              "['one', 'two', 'three', 4, 5, 'add new item permanently']"
            ]
          },
          "metadata": {},
          "execution_count": 43
        }
      ],
      "source": [
        "# Опять же, это не затрагивает изначальный список\n",
        "my_list"
      ]
    },
    {
      "cell_type": "markdown",
      "id": "71f9e0ec",
      "metadata": {
        "id": "71f9e0ec"
      },
      "source": [
        "## Основные методы для списков\n",
        "\n",
        "Если Вы знаете другие языки программирования, то можете провести параллели между массивами в других языках и списками в Python. Однако списки в Python более гибкие, чем массивы в других языках, по двум причинам: у них нет фиксированного размера (то есть нам не нужно указывать, насколько большим будет список), и они не ограничивают типы объектов (как мы видели выше).\n",
        "\n",
        "Давайте посмотрим некоторые методы, специфичные для списков:"
      ]
    },
    {
      "cell_type": "code",
      "execution_count": 60,
      "id": "48db43bb",
      "metadata": {
        "id": "48db43bb"
      },
      "outputs": [],
      "source": [
        "# Создаем новый список\n",
        "list1 = [1,2,3]"
      ]
    },
    {
      "cell_type": "markdown",
      "id": "0eca3c02",
      "metadata": {
        "id": "0eca3c02"
      },
      "source": [
        "Метод **append** добавляет новый элемент в конец списка:"
      ]
    },
    {
      "cell_type": "code",
      "execution_count": 61,
      "id": "4bd053e1",
      "metadata": {
        "id": "4bd053e1"
      },
      "outputs": [],
      "source": [
        "# Append\n",
        "list1.append('append me!')"
      ]
    },
    {
      "cell_type": "code",
      "execution_count": 62,
      "id": "f8ea2f26",
      "metadata": {
        "colab": {
          "base_uri": "https://localhost:8080/"
        },
        "id": "f8ea2f26",
        "outputId": "4eb88ba6-dee4-4943-c0ad-0774243d4de9"
      },
      "outputs": [
        {
          "output_type": "execute_result",
          "data": {
            "text/plain": [
              "[1, 2, 3, 'append me!']"
            ]
          },
          "metadata": {},
          "execution_count": 62
        }
      ],
      "source": [
        "# Проверка\n",
        "list1"
      ]
    },
    {
      "cell_type": "markdown",
      "id": "b7b8a82e",
      "metadata": {
        "id": "b7b8a82e"
      },
      "source": [
        "Метод **pop** \"вынимает\" элемент из списка. По умолчанию вынимается последний элемент, но Вы также можете указать позицию, с которой нужно вынуть элемент. Рассмотрим пример:"
      ]
    },
    {
      "cell_type": "code",
      "execution_count": 63,
      "id": "5af84bbe",
      "metadata": {
        "colab": {
          "base_uri": "https://localhost:8080/"
        },
        "id": "5af84bbe",
        "outputId": "0644c860-2e59-47ab-ac1d-731b060445ea"
      },
      "outputs": [
        {
          "output_type": "execute_result",
          "data": {
            "text/plain": [
              "1"
            ]
          },
          "metadata": {},
          "execution_count": 63
        }
      ],
      "source": [
        "# Вынимаем элемент на позиции 0\n",
        "list1.pop(0)"
      ]
    },
    {
      "cell_type": "code",
      "execution_count": 64,
      "id": "ef54bb6b",
      "metadata": {
        "colab": {
          "base_uri": "https://localhost:8080/"
        },
        "id": "ef54bb6b",
        "outputId": "21c5ae5d-e448-4373-fc16-a1f35d188836"
      },
      "outputs": [
        {
          "output_type": "execute_result",
          "data": {
            "text/plain": [
              "[2, 3, 'append me!']"
            ]
          },
          "metadata": {},
          "execution_count": 64
        }
      ],
      "source": [
        "# Проверка\n",
        "list1"
      ]
    },
    {
      "cell_type": "code",
      "execution_count": 65,
      "id": "b3341ac1",
      "metadata": {
        "id": "b3341ac1"
      },
      "outputs": [],
      "source": [
        "# Сохраняем вынимаемый элемент в отдельной переменной.\n",
        "# Помните, по умолчанию вынимаем последний элемент в списке (индекс -1)\n",
        "popped_item = list1.pop()"
      ]
    },
    {
      "cell_type": "code",
      "execution_count": 66,
      "id": "eb91a64b",
      "metadata": {
        "colab": {
          "base_uri": "https://localhost:8080/",
          "height": 35
        },
        "id": "eb91a64b",
        "outputId": "dcae6435-320e-4bef-c29b-0d88fd6f7c4a"
      },
      "outputs": [
        {
          "output_type": "execute_result",
          "data": {
            "text/plain": [
              "'append me!'"
            ],
            "application/vnd.google.colaboratory.intrinsic+json": {
              "type": "string"
            }
          },
          "metadata": {},
          "execution_count": 66
        }
      ],
      "source": [
        "popped_item"
      ]
    },
    {
      "cell_type": "code",
      "execution_count": 115,
      "id": "263cc06d",
      "metadata": {
        "colab": {
          "base_uri": "https://localhost:8080/"
        },
        "id": "263cc06d",
        "outputId": "2ce96c0f-960c-4006-e9d6-bff682292720"
      },
      "outputs": [
        {
          "output_type": "execute_result",
          "data": {
            "text/plain": [
              "[2, 3]"
            ]
          },
          "metadata": {},
          "execution_count": 115
        }
      ],
      "source": [
        "# Проверка\n",
        "list1"
      ]
    },
    {
      "cell_type": "markdown",
      "id": "ce78c1aa",
      "metadata": {
        "id": "ce78c1aa"
      },
      "source": [
        "Также следует сказать, что обращение по несуществующему номеру индекса выдаст ошибку, если такого элемента нет. Например:"
      ]
    },
    {
      "cell_type": "code",
      "execution_count": 114,
      "id": "bcabca77",
      "metadata": {
        "colab": {
          "base_uri": "https://localhost:8080/",
          "height": 144
        },
        "id": "bcabca77",
        "outputId": "30c83b37-f15a-4875-9a09-b970a65c3775"
      },
      "outputs": [
        {
          "output_type": "error",
          "ename": "IndexError",
          "evalue": "list index out of range",
          "traceback": [
            "\u001b[0;31m---------------------------------------------------------------------------\u001b[0m",
            "\u001b[0;31mIndexError\u001b[0m                                Traceback (most recent call last)",
            "\u001b[0;32m<ipython-input-114-af6d2015fa1f>\u001b[0m in \u001b[0;36m<cell line: 0>\u001b[0;34m()\u001b[0m\n\u001b[0;32m----> 1\u001b[0;31m \u001b[0mlist1\u001b[0m\u001b[0;34m[\u001b[0m\u001b[0;36m100\u001b[0m\u001b[0;34m]\u001b[0m\u001b[0;34m\u001b[0m\u001b[0;34m\u001b[0m\u001b[0m\n\u001b[0m",
            "\u001b[0;31mIndexError\u001b[0m: list index out of range"
          ]
        }
      ],
      "source": [
        "list1[100]"
      ]
    },
    {
      "cell_type": "markdown",
      "id": "dd21a2b5",
      "metadata": {
        "id": "dd21a2b5"
      },
      "source": [
        "Мы также можем использовать методы **sort** и **reverse** для сортировки списков:"
      ]
    },
    {
      "cell_type": "code",
      "execution_count": 69,
      "id": "5acdf274",
      "metadata": {
        "id": "5acdf274"
      },
      "outputs": [],
      "source": [
        "new_list = ['a','e','x','b','c']"
      ]
    },
    {
      "cell_type": "code",
      "execution_count": 70,
      "id": "c40988ba",
      "metadata": {
        "colab": {
          "base_uri": "https://localhost:8080/"
        },
        "id": "c40988ba",
        "outputId": "be54c6e0-8644-4c95-ef05-4a8502dd2fd8"
      },
      "outputs": [
        {
          "output_type": "execute_result",
          "data": {
            "text/plain": [
              "['a', 'e', 'x', 'b', 'c']"
            ]
          },
          "metadata": {},
          "execution_count": 70
        }
      ],
      "source": [
        "# проверка\n",
        "new_list"
      ]
    },
    {
      "cell_type": "code",
      "execution_count": 74,
      "id": "2b24d3b8",
      "metadata": {
        "id": "2b24d3b8"
      },
      "outputs": [],
      "source": [
        "# Используем reverse для обратной сортировки (изменения сохраняются в списке!)\n",
        "new_list.reverse()"
      ]
    },
    {
      "cell_type": "code",
      "execution_count": 75,
      "id": "57ba6fc1",
      "metadata": {
        "colab": {
          "base_uri": "https://localhost:8080/"
        },
        "id": "57ba6fc1",
        "outputId": "02586f35-6926-45e9-da02-ac369bed0909"
      },
      "outputs": [
        {
          "output_type": "execute_result",
          "data": {
            "text/plain": [
              "['c', 'b', 'x', 'e', 'a']"
            ]
          },
          "metadata": {},
          "execution_count": 75
        }
      ],
      "source": [
        "new_list"
      ]
    },
    {
      "cell_type": "code",
      "execution_count": 76,
      "id": "836b220a",
      "metadata": {
        "id": "836b220a"
      },
      "outputs": [],
      "source": [
        "# Используем sort для сортировки списка (в этом случае по алфавиту, а для чисел было бы по возрастанию)\n",
        "new_list.sort()"
      ]
    },
    {
      "cell_type": "code",
      "execution_count": 77,
      "id": "c9c801fb",
      "metadata": {
        "colab": {
          "base_uri": "https://localhost:8080/"
        },
        "id": "c9c801fb",
        "outputId": "95d77214-d3ee-4cf8-d470-2caa5e905db6"
      },
      "outputs": [
        {
          "output_type": "execute_result",
          "data": {
            "text/plain": [
              "['a', 'b', 'c', 'e', 'x']"
            ]
          },
          "metadata": {},
          "execution_count": 77
        }
      ],
      "source": [
        "new_list"
      ]
    },
    {
      "cell_type": "markdown",
      "id": "1c208f9a",
      "metadata": {
        "id": "1c208f9a"
      },
      "source": [
        "## Вложенные списки\n",
        "Прекрасная особенность структур данных в Python состоит в том, что они могут быть вложенными (*nested*). Это значит, что мы можем создавать структуры данных внутри структур данных. Например: список внутри списка.\n",
        "\n",
        "Давайте посмотрим, как это работает!"
      ]
    },
    {
      "cell_type": "code",
      "execution_count": 78,
      "id": "1aaee8e4",
      "metadata": {
        "id": "1aaee8e4"
      },
      "outputs": [],
      "source": [
        "# Создадим три списка\n",
        "lst_1=[1,2,3]\n",
        "lst_2=[4,5,6]\n",
        "lst_3=[7,8,9]\n",
        "\n",
        "# Создадим список списков, получаем матрицу\n",
        "matrix = [lst_1,lst_2,lst_3]"
      ]
    },
    {
      "cell_type": "code",
      "execution_count": 79,
      "id": "e051d871",
      "metadata": {
        "colab": {
          "base_uri": "https://localhost:8080/"
        },
        "id": "e051d871",
        "outputId": "54954c93-92f7-4687-eab3-99b229b2c46b"
      },
      "outputs": [
        {
          "output_type": "execute_result",
          "data": {
            "text/plain": [
              "[[1, 2, 3], [4, 5, 6], [7, 8, 9]]"
            ]
          },
          "metadata": {},
          "execution_count": 79
        }
      ],
      "source": [
        "# Проверка\n",
        "matrix"
      ]
    },
    {
      "cell_type": "markdown",
      "id": "3c9cf9bb",
      "metadata": {
        "id": "3c9cf9bb"
      },
      "source": [
        "Мы можем использовать индексы, чтобы получить элементы - но теперь у нас два уровня индексирования. Сначала элементы в списке matrix, а затем элементы внутри выбранного списка!"
      ]
    },
    {
      "cell_type": "code",
      "execution_count": 80,
      "id": "9607862d",
      "metadata": {
        "colab": {
          "base_uri": "https://localhost:8080/"
        },
        "id": "9607862d",
        "outputId": "f92444d5-51a7-4578-8d0f-0ee512bf8f8e"
      },
      "outputs": [
        {
          "output_type": "execute_result",
          "data": {
            "text/plain": [
              "[1, 2, 3]"
            ]
          },
          "metadata": {},
          "execution_count": 80
        }
      ],
      "source": [
        "# Берем первый элемент в объекте matrix\n",
        "matrix[0]"
      ]
    },
    {
      "cell_type": "code",
      "execution_count": 82,
      "id": "89c06756",
      "metadata": {
        "scrolled": false,
        "colab": {
          "base_uri": "https://localhost:8080/"
        },
        "id": "89c06756",
        "outputId": "2825f3cb-c7e5-4e10-ed25-3017203f1920"
      },
      "outputs": [
        {
          "output_type": "execute_result",
          "data": {
            "text/plain": [
              "1"
            ]
          },
          "metadata": {},
          "execution_count": 82
        }
      ],
      "source": [
        "# Берем первый элемент внутри первого элемента в объекте matrix\n",
        "matrix[0][0]"
      ]
    },
    {
      "cell_type": "markdown",
      "id": "6a549728",
      "metadata": {
        "id": "6a549728"
      },
      "source": [
        "# Генераторы списков (List Comprehensions)\n",
        "В Python есть возможность создавать списки с помощью генераторов списков (List Comprehensions). Этот термин трудно перевести на русский язык, иногда его ещё переводят как \"абстракция списков\" или \"списковое включение\". Генераторы списков позволяют быстро создавать списки. Чтобы понять их, нам нужно понять работу циклов for. Не волнуйтесь, если этот раздел пока будет выглядеть не вполне понятно - просто пропустите его, мы вернемся к этой теме позже.\n",
        "\n",
        "Но если Вы хотите знать уже сейчас. то вот пример:"
      ]
    },
    {
      "cell_type": "code",
      "execution_count": 88,
      "id": "c961f25d",
      "metadata": {
        "id": "c961f25d"
      },
      "outputs": [],
      "source": [
        "# Создаем список с помощью цикла for внутри []\n",
        "first_col = [x[0] for x in matrix]"
      ]
    },
    {
      "cell_type": "code",
      "execution_count": 89,
      "id": "9f41735e",
      "metadata": {
        "colab": {
          "base_uri": "https://localhost:8080/"
        },
        "id": "9f41735e",
        "outputId": "7c60233f-a5bd-437f-f98b-7d275727efc6"
      },
      "outputs": [
        {
          "output_type": "execute_result",
          "data": {
            "text/plain": [
              "[1, 4, 7]"
            ]
          },
          "metadata": {},
          "execution_count": 89
        }
      ],
      "source": [
        "first_col"
      ]
    },
    {
      "cell_type": "markdown",
      "id": "3e09d561",
      "metadata": {
        "collapsed": true,
        "id": "3e09d561"
      },
      "source": [
        "## Пример 1"
      ]
    },
    {
      "cell_type": "code",
      "execution_count": 90,
      "id": "b283c0da",
      "metadata": {
        "collapsed": true,
        "id": "b283c0da"
      },
      "outputs": [],
      "source": [
        "# Получить все буквы в строке\n",
        "lst = [x for x in 'word']"
      ]
    },
    {
      "cell_type": "code",
      "execution_count": 91,
      "id": "915af7db",
      "metadata": {
        "colab": {
          "base_uri": "https://localhost:8080/"
        },
        "id": "915af7db",
        "outputId": "73ab2619-c269-4626-98ae-1194d7486531"
      },
      "outputs": [
        {
          "output_type": "execute_result",
          "data": {
            "text/plain": [
              "['w', 'o', 'r', 'd']"
            ]
          },
          "metadata": {},
          "execution_count": 91
        }
      ],
      "source": [
        "# Проверка\n",
        "lst"
      ]
    },
    {
      "cell_type": "markdown",
      "id": "0b46e369",
      "metadata": {
        "id": "0b46e369"
      },
      "source": [
        "Это основная идея генератора списков. Если Вы знакомы с математической нотацией, то этот формат выглядит похоже, например: x^2 : x in { 0,1,2...10 }\n",
        "\n",
        "Рассмотрим ещё несколько примеров для генератора списков в Python:\n",
        "## Пример 2"
      ]
    },
    {
      "cell_type": "code",
      "execution_count": 93,
      "id": "f97c1a61",
      "metadata": {
        "collapsed": true,
        "id": "f97c1a61"
      },
      "outputs": [],
      "source": [
        "# Взять диапазон чисел, возвести их в квадрат, и вернуть в виде списка\n",
        "lst = [x**2 for x in range(0,11)]"
      ]
    },
    {
      "cell_type": "code",
      "execution_count": 94,
      "id": "df4b1411",
      "metadata": {
        "colab": {
          "base_uri": "https://localhost:8080/"
        },
        "id": "df4b1411",
        "outputId": "ff06e89b-c16b-4d91-ace9-0edfd8d13241"
      },
      "outputs": [
        {
          "output_type": "execute_result",
          "data": {
            "text/plain": [
              "[0, 1, 4, 9, 16, 25, 36, 49, 64, 81, 100]"
            ]
          },
          "metadata": {},
          "execution_count": 94
        }
      ],
      "source": [
        "lst"
      ]
    },
    {
      "cell_type": "markdown",
      "id": "d31356d0",
      "metadata": {
        "id": "d31356d0"
      },
      "source": [
        "## Пример 3\n",
        "Посмотрим как можно добавить оператор <code>if</code>:"
      ]
    },
    {
      "cell_type": "code",
      "execution_count": 95,
      "id": "77c19e0a",
      "metadata": {
        "collapsed": true,
        "id": "77c19e0a"
      },
      "outputs": [],
      "source": [
        "# Взять чётные числа из диапазона\n",
        "lst = [x for x in range(11) if x % 2 == 0]"
      ]
    },
    {
      "cell_type": "code",
      "execution_count": 96,
      "id": "365829f0",
      "metadata": {
        "colab": {
          "base_uri": "https://localhost:8080/"
        },
        "id": "365829f0",
        "outputId": "e88091ab-90e6-40b7-ebd4-bf554bf440ff"
      },
      "outputs": [
        {
          "output_type": "execute_result",
          "data": {
            "text/plain": [
              "[0, 2, 4, 6, 8, 10]"
            ]
          },
          "metadata": {},
          "execution_count": 96
        }
      ],
      "source": [
        "lst"
      ]
    },
    {
      "cell_type": "markdown",
      "id": "1423ac0d",
      "metadata": {
        "id": "1423ac0d"
      },
      "source": [
        "## Пример 4\n",
        "Мы также можем выполнить более сложную арифметику:"
      ]
    },
    {
      "cell_type": "code",
      "execution_count": 98,
      "id": "aa236333",
      "metadata": {
        "colab": {
          "base_uri": "https://localhost:8080/"
        },
        "id": "aa236333",
        "outputId": "b8739e47-f54e-4c5c-a1e3-e1086bd5ee1c"
      },
      "outputs": [
        {
          "output_type": "execute_result",
          "data": {
            "text/plain": [
              "[32.0, 50.0, 68.18, 94.1]"
            ]
          },
          "metadata": {},
          "execution_count": 98
        }
      ],
      "source": [
        "# Сконвертировать градусы Цельсия в градусы Фаренгейта\n",
        "celsius = [0,10,20.1,34.5]\n",
        "\n",
        "fahrenheit = [((9/5)*temp + 32) for temp in celsius ]\n",
        "\n",
        "fahrenheit"
      ]
    },
    {
      "cell_type": "markdown",
      "id": "be7c4afd",
      "metadata": {
        "id": "be7c4afd"
      },
      "source": [
        "## Пример 5\n",
        "Мы также можем создавать вложенные генераторы списков, например:"
      ]
    },
    {
      "cell_type": "code",
      "execution_count": 99,
      "id": "ffa7d41c",
      "metadata": {
        "colab": {
          "base_uri": "https://localhost:8080/"
        },
        "id": "ffa7d41c",
        "outputId": "9538eed3-0735-4bd9-e9e6-c8616f1e93f0"
      },
      "outputs": [
        {
          "output_type": "execute_result",
          "data": {
            "text/plain": [
              "[0, 1, 16, 81, 256, 625, 1296, 2401, 4096, 6561, 10000]"
            ]
          },
          "metadata": {},
          "execution_count": 99
        }
      ],
      "source": [
        "lst = [ x**2 for x in [x**2 for x in range(11)]]\n",
        "lst"
      ]
    },
    {
      "cell_type": "markdown",
      "id": "316a16bd",
      "metadata": {
        "id": "316a16bd"
      },
      "source": [
        "## Задание 1"
      ]
    },
    {
      "cell_type": "markdown",
      "id": "e753120c",
      "metadata": {
        "id": "e753120c"
      },
      "source": [
        "Есть строка 'hello'. Введите команду, которая выведет букву 'e'. Введите Ваш код в ячейке ниже:"
      ]
    },
    {
      "cell_type": "code",
      "execution_count": 110,
      "id": "0f7b6387",
      "metadata": {
        "colab": {
          "base_uri": "https://localhost:8080/"
        },
        "id": "0f7b6387",
        "outputId": "37c313d9-69fb-400a-a395-0a34b5c3ef9b"
      },
      "outputs": [
        {
          "output_type": "stream",
          "name": "stdout",
          "text": [
            "e\n"
          ]
        }
      ],
      "source": [
        "s = 'hello'\n",
        "# Выведите 'e' с помощью индексирования\n",
        "print (s[1])"
      ]
    },
    {
      "cell_type": "markdown",
      "id": "c11fbdc2",
      "metadata": {
        "id": "c11fbdc2"
      },
      "source": [
        "Выведите строку 'hello' в обратном порядке"
      ]
    },
    {
      "cell_type": "code",
      "execution_count": 3,
      "id": "858fb118",
      "metadata": {
        "colab": {
          "base_uri": "https://localhost:8080/"
        },
        "id": "858fb118",
        "outputId": "578fa8a8-a1f7-4b7b-8900-5b81273c789b"
      },
      "outputs": [
        {
          "output_type": "stream",
          "name": "stdout",
          "text": [
            "olleh\n"
          ]
        }
      ],
      "source": [
        "s ='hello'\n",
        "# Выведите строку в обратном порядке\n",
        "x=s[::-1]\n",
        "print (x)"
      ]
    },
    {
      "cell_type": "markdown",
      "id": "472ec8f4",
      "metadata": {
        "id": "472ec8f4"
      },
      "source": [
        "Используя строку hello, укажите два способа, как можно получить букву 'o' с помощью индексирования."
      ]
    },
    {
      "cell_type": "code",
      "execution_count": 5,
      "id": "18afe82f",
      "metadata": {
        "colab": {
          "base_uri": "https://localhost:8080/"
        },
        "id": "18afe82f",
        "outputId": "27a0f744-61f8-4cfd-97f7-2ef6e21e259d"
      },
      "outputs": [
        {
          "output_type": "stream",
          "name": "stdout",
          "text": [
            "o\n"
          ]
        }
      ],
      "source": [
        "s ='hello'\n",
        "# Выведите букву 'o'\n",
        "\n",
        "# Способ 1:\n",
        "print (s[4])\n"
      ]
    },
    {
      "cell_type": "code",
      "execution_count": 2,
      "id": "6385792a",
      "metadata": {
        "colab": {
          "base_uri": "https://localhost:8080/"
        },
        "id": "6385792a",
        "outputId": "c2b31d38-87d5-4dfa-8509-9c02af085430"
      },
      "outputs": [
        {
          "output_type": "stream",
          "name": "stdout",
          "text": [
            "o\n"
          ]
        }
      ],
      "source": [
        "# Способ 2:\n",
        "s ='hello'\n",
        "for x in s:\n",
        "  if x == 'о':\n",
        "    print (x)\n",
        "print (x)"
      ]
    },
    {
      "cell_type": "markdown",
      "id": "e7fee250",
      "metadata": {
        "id": "e7fee250"
      },
      "source": [
        "## Задание 2"
      ]
    },
    {
      "cell_type": "markdown",
      "id": "a4c21283",
      "metadata": {
        "id": "a4c21283"
      },
      "source": [
        "Создайте список [0,0,0] двумя разными способами."
      ]
    },
    {
      "cell_type": "code",
      "execution_count": 7,
      "id": "f24113d3",
      "metadata": {
        "colab": {
          "base_uri": "https://localhost:8080/"
        },
        "id": "f24113d3",
        "outputId": "3b530558-bc9a-4c91-a6cb-df183340d49f"
      },
      "outputs": [
        {
          "output_type": "stream",
          "name": "stdout",
          "text": [
            "[0, 0, 0]\n"
          ]
        }
      ],
      "source": [
        "# Способ 1:\n",
        "lst =[]\n",
        "lst.append (0)\n",
        "lst.extend ([0,0])\n",
        "print (lst)"
      ]
    },
    {
      "cell_type": "code",
      "execution_count": 20,
      "id": "18a6719b",
      "metadata": {
        "colab": {
          "base_uri": "https://localhost:8080/"
        },
        "id": "18a6719b",
        "outputId": "41e47625-f0d7-4c15-8a72-240ed3137522"
      },
      "outputs": [
        {
          "output_type": "stream",
          "name": "stdout",
          "text": [
            "[0, 0, 0]\n"
          ]
        }
      ],
      "source": [
        "# Способ 2:\n",
        "lst = [0] * 3\n",
        "print (lst)"
      ]
    },
    {
      "cell_type": "markdown",
      "id": "3be937c8",
      "metadata": {
        "id": "3be937c8"
      },
      "source": [
        "Переопределите 'hello' в этом сложенном списке, чтобы вместо этого сказать 'goodbye':"
      ]
    },
    {
      "cell_type": "code",
      "execution_count": 22,
      "id": "98cbbfa4",
      "metadata": {
        "colab": {
          "base_uri": "https://localhost:8080/"
        },
        "id": "98cbbfa4",
        "outputId": "0cbb3173-1aba-4d20-9401-7509ab0ea500"
      },
      "outputs": [
        {
          "output_type": "stream",
          "name": "stdout",
          "text": [
            "[1, 2, [3, 4, 'goodbye']]\n"
          ]
        }
      ],
      "source": [
        "list3 = [1,2,[3,4,'hello']]\n",
        "list3 [2][2] = 'goodbye'\n",
        "print (list3)\n"
      ]
    },
    {
      "cell_type": "markdown",
      "id": "e7996674",
      "metadata": {
        "id": "e7996674"
      },
      "source": [
        "Отсортируйте список ниже:"
      ]
    },
    {
      "cell_type": "code",
      "execution_count": 34,
      "id": "a8c1011c",
      "metadata": {
        "colab": {
          "base_uri": "https://localhost:8080/"
        },
        "id": "a8c1011c",
        "outputId": "55d4c700-e42c-41bb-e1d3-58826437ccd1"
      },
      "outputs": [
        {
          "output_type": "stream",
          "name": "stdout",
          "text": [
            "[1, 3, 4, 5, 6]\n"
          ]
        }
      ],
      "source": [
        "list4 = [5,3,4,6,1]\n",
        "list4.sort ()\n",
        "print (list4)\n",
        "\n"
      ]
    }
  ],
  "metadata": {
    "kernelspec": {
      "display_name": "Python 3 (ipykernel)",
      "language": "python",
      "name": "python3"
    },
    "language_info": {
      "codemirror_mode": {
        "name": "ipython",
        "version": 3
      },
      "file_extension": ".py",
      "mimetype": "text/x-python",
      "name": "python",
      "nbconvert_exporter": "python",
      "pygments_lexer": "ipython3",
      "version": "3.9.13"
    },
    "colab": {
      "provenance": []
    }
  },
  "nbformat": 4,
  "nbformat_minor": 5
}