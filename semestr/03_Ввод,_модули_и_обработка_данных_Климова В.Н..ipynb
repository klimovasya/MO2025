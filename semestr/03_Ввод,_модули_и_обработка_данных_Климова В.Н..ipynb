{
  "cells": [
    {
      "cell_type": "markdown",
      "id": "8f85e9d3",
      "metadata": {
        "id": "8f85e9d3"
      },
      "source": [
        "# 03 Ввод данных. input()"
      ]
    },
    {
      "cell_type": "markdown",
      "id": "cc58dfa3",
      "metadata": {
        "id": "cc58dfa3"
      },
      "source": [
        "Познакомимся с функцией input() - ввод. Это функция позволяет нам просить\n",
        "пользователя что-нибудь ввести или принять на ввод какие-то данные."
      ]
    },
    {
      "cell_type": "code",
      "execution_count": null,
      "id": "3698fa45",
      "metadata": {
        "scrolled": true,
        "id": "3698fa45",
        "colab": {
          "base_uri": "https://localhost:8080/"
        },
        "outputId": "14be18e3-80bf-4c6a-ce68-495054979cfc"
      },
      "outputs": [
        {
          "output_type": "stream",
          "name": "stdout",
          "text": [
            "Как вас зовут?67\n",
            "67\n"
          ]
        }
      ],
      "source": [
        "x = input('Как вас зовут?')\n",
        "print(x)"
      ]
    },
    {
      "cell_type": "markdown",
      "id": "2e60102b",
      "metadata": {
        "id": "2e60102b"
      },
      "source": [
        "'Как вас зовут?' - аргумент функции input(), который будет отображаться в строке ввода. Он необязателен, но он может быть полезен для вас (особенно, если в задаче требуется ввести больше одной строки данных и нужно не запутаться).\n",
        "\n",
        "Обратите внимание, что функция  input() все сохраняет в строковом формате данных. Но мы можем сделать из\n",
        "числа-строки число-число с помощью функции int(). Введите \"1\" в обоих случаях и сравните результат."
      ]
    },
    {
      "cell_type": "code",
      "execution_count": null,
      "id": "450ca3c0",
      "metadata": {
        "colab": {
          "base_uri": "https://localhost:8080/"
        },
        "id": "450ca3c0",
        "outputId": "6491f03a-90dd-4a3f-ac54-68af7f9dc9f2"
      },
      "outputs": [
        {
          "output_type": "stream",
          "name": "stdout",
          "text": [
            "1\n",
            "<class 'str'>\n",
            "11\n",
            "<class 'int'>\n"
          ]
        }
      ],
      "source": [
        "print(type(input()))\n",
        "print(type(int(input())))"
      ]
    },
    {
      "cell_type": "markdown",
      "id": "d6194b8e",
      "metadata": {
        "id": "d6194b8e"
      },
      "source": [
        "Нужно следить за тем, какие данные вы считываете и менять их при необходимости. Сравните два примере ниже."
      ]
    },
    {
      "cell_type": "code",
      "execution_count": null,
      "id": "0888dc6c",
      "metadata": {
        "colab": {
          "base_uri": "https://localhost:8080/"
        },
        "id": "0888dc6c",
        "outputId": "392fcae6-6e83-47c5-f365-1ccbe0c5a94b"
      },
      "outputs": [
        {
          "output_type": "stream",
          "name": "stdout",
          "text": [
            "Input x value: 67\n",
            "Input y value: 78\n",
            "6778\n"
          ]
        }
      ],
      "source": [
        "x = input('Input x value: ')\n",
        "y = input('Input y value: ')\n",
        "print(x + y) # произошла склейка строк, по умолчанию input() сохраняет значение типа str"
      ]
    },
    {
      "cell_type": "code",
      "execution_count": null,
      "id": "9a993185",
      "metadata": {
        "colab": {
          "base_uri": "https://localhost:8080/"
        },
        "id": "9a993185",
        "outputId": "d153a4b6-81dc-4e07-ebdb-2bfd08fd80ae"
      },
      "outputs": [
        {
          "output_type": "stream",
          "name": "stdout",
          "text": [
            "Input x value: 67\n",
            "Input y value: 78\n",
            "145\n"
          ]
        }
      ],
      "source": [
        "x = int(input('Input x value: '))\n",
        "y = int(input('Input y value: '))\n",
        "print(x + y) # вот теперь произошло сложение чисел"
      ]
    },
    {
      "cell_type": "markdown",
      "id": "2a001194",
      "metadata": {
        "id": "2a001194"
      },
      "source": [
        "## Задача 1. Pig Latin 1\n",
        "\n",
        "Pig Latin - вымышленный язык, который в конец каждого слова подставляет 'yay' (на самом деле оригинальные условия задачи несколько хитрее, но мы будем к ней возвращаться по ходу курса.\n",
        "\n",
        "**Формат ввода**  \n",
        "Пользователь вводит слова.\n",
        "\n",
        "**Формат вывода**\n",
        "Слово на Pig Latin.\n",
        "\n",
        "\n",
        "#### Примеры\n",
        "Тест 1  \n",
        "**Ввод:**  \n",
        "apple\n",
        "\n",
        "**Вывод:**  \n",
        "appleyay"
      ]
    },
    {
      "cell_type": "code",
      "execution_count": null,
      "id": "f3e532fa",
      "metadata": {
        "colab": {
          "base_uri": "https://localhost:8080/"
        },
        "id": "f3e532fa",
        "outputId": "8f41443b-1884-4653-89cf-9c5c5b625d4a"
      },
      "outputs": [
        {
          "output_type": "stream",
          "name": "stdout",
          "text": [
            "Введите слово: coo;\n",
            "coo;yay\n"
          ]
        }
      ],
      "source": [
        "word = input('Введите слово: ')\n",
        "print(word+'yay')"
      ]
    },
    {
      "cell_type": "markdown",
      "id": "ea45a103",
      "metadata": {
        "id": "ea45a103"
      },
      "source": [
        "## Задача 2. Как перевести градусы Цельсия в градусы Фаренгейта\n",
        "Чтобы при помощи Python перевести градусы Цельсия в градусы Фаренгейта (или наоборот), необходимо реализовать в коде следующие формулы:\n",
        "\n",
        "Градусы Цельсия в градусы Фаренгейта:\n",
        "F = 1.8 x C + 32\n",
        "\n",
        "Градусы Фаренгейта в градусы Цельсия:\n",
        "C = (F - 32) / 1.8"
      ]
    },
    {
      "cell_type": "code",
      "execution_count": null,
      "id": "a8045be4",
      "metadata": {
        "colab": {
          "base_uri": "https://localhost:8080/"
        },
        "id": "a8045be4",
        "outputId": "7c14f1e8-2ae7-44a8-ecb4-9051081f908c"
      },
      "outputs": [
        {
          "output_type": "stream",
          "name": "stdout",
          "text": [
            "Give me a temperature in celcius: 45\n",
            "The temperature is  113.0  in fahrenheit\n"
          ]
        }
      ],
      "source": [
        "# Запросить пользовательский ввод (температуру в градусах Цельсия)\n",
        "c = float(input(\"Give me a temperature in celcius: \"))\n",
        "# Преобразовать значение, введенное пользователем, в градусы Фаренгейта\n",
        "f = 1.8 * c + 32\n",
        "# Вывести результат\n",
        "print(\"The temperature is \",f,\" in fahrenheit\")"
      ]
    },
    {
      "cell_type": "code",
      "execution_count": null,
      "id": "aeea655a",
      "metadata": {
        "colab": {
          "base_uri": "https://localhost:8080/"
        },
        "id": "aeea655a",
        "outputId": "b302e1c4-247e-44e0-c95a-6bbe95f192b6"
      },
      "outputs": [
        {
          "output_type": "stream",
          "name": "stdout",
          "text": [
            "Give me a temperature in fahrenheit: 56\n",
            "The temperature is  56.0  in fahrenheit\n",
            "The temperature is  13.333333333333332  in celcius\n"
          ]
        }
      ],
      "source": [
        "# Здесь напишите программу для преобразования градусов Фаренгейта в градусы Цельсия\n",
        "f = float(input( 'Give me a temperature in fahrenheit: '))\n",
        "c = (f-32)/1.8\n",
        "print (\"The temperature is \",f,\" in fahrenheit\")\n",
        "print (\"The temperature is \",c,\" in celcius\")"
      ]
    },
    {
      "cell_type": "markdown",
      "id": "8f28db59",
      "metadata": {
        "id": "8f28db59"
      },
      "source": [
        "## Импорт модулей\n",
        "По мере количества строк вашего кода будет не лишним начинать пользоваться модулями.\n",
        "\n",
        "Модуль — это файл, содержащий функции и операторы. У всех модулей в Python есть имя, которое заканчивается расширением .py.\n",
        "\n",
        "Операторы внутри модуля могут быть импортированы в другой модуль или в интерпретатор Python. Для этого мы используем ключевое слово import.\n",
        "\n",
        "Например, мы можем импортировать модуль math. Делается это следующим образом:\n",
        "\n",
        "`import math`"
      ]
    },
    {
      "cell_type": "code",
      "execution_count": null,
      "id": "abba2114",
      "metadata": {
        "id": "abba2114",
        "colab": {
          "base_uri": "https://localhost:8080/"
        },
        "outputId": "64c2b61b-18a8-49fb-b09a-0db094bcf7da"
      },
      "outputs": [
        {
          "output_type": "stream",
          "name": "stdout",
          "text": [
            "3.141592653589793\n"
          ]
        }
      ],
      "source": [
        "import math\n",
        "print(math.pi)"
      ]
    },
    {
      "cell_type": "markdown",
      "id": "0a0506bf",
      "metadata": {
        "id": "0a0506bf"
      },
      "source": [
        "## Модуль random\n",
        "Модуль random позволяет генерировать случайные числа. Прежде чем использовать модуль, необходимо подключить его\n",
        "\n",
        "`import random`"
      ]
    },
    {
      "cell_type": "markdown",
      "id": "cf95f26e",
      "metadata": {
        "id": "cf95f26e"
      },
      "source": [
        "## randint\n",
        "\n",
        "Функция randint(a, b) получает на вход два целых числа и возвращает случайное значение из диапазона [a,b]    (a и b входят в этот диапазон).\n"
      ]
    },
    {
      "cell_type": "code",
      "execution_count": null,
      "id": "15d2a919",
      "metadata": {
        "id": "15d2a919",
        "colab": {
          "base_uri": "https://localhost:8080/"
        },
        "outputId": "482dee2d-265e-47a8-e26f-3dd4b8a9dcb2"
      },
      "outputs": [
        {
          "output_type": "stream",
          "name": "stdout",
          "text": [
            "80\n"
          ]
        }
      ],
      "source": [
        "import random\n",
        "\n",
        "random_number = random.randint(0, 125)\n",
        "print(random_number)"
      ]
    },
    {
      "cell_type": "markdown",
      "id": "984611ba",
      "metadata": {
        "id": "984611ba"
      },
      "source": [
        "## randrange\n",
        "\n",
        "В функцию randrange(start, stop[, step]) передают три целых числа:\n",
        "\n",
        "start\n",
        " – начало диапазона (входит в последовательность);\n",
        "\n",
        "stop\n",
        " – конец диапазона (в последовательность не входит);\n",
        "\n",
        "step\n",
        " – шаг генерации (если на его месте написать 0, получим ошибку \"ValueError\").\n",
        "\n",
        "На выходе функция выдает случайное число в заданном диапазоне"
      ]
    },
    {
      "cell_type": "code",
      "execution_count": null,
      "id": "903cde2b",
      "metadata": {
        "id": "903cde2b",
        "colab": {
          "base_uri": "https://localhost:8080/"
        },
        "outputId": "79f1f815-f1d0-44ed-8fee-16cee8a5cf18"
      },
      "outputs": [
        {
          "output_type": "stream",
          "name": "stdout",
          "text": [
            "39\n"
          ]
        }
      ],
      "source": [
        "import random\n",
        "\n",
        "random_number = random.randrange(1, 100, 2)\n",
        "print(random_number)"
      ]
    },
    {
      "cell_type": "markdown",
      "id": "9c2e9ce0",
      "metadata": {
        "id": "9c2e9ce0"
      },
      "source": [
        "## random\n",
        "\n",
        "Функция  random()  выдает вещественные числа, в диапазоне [0.0, 1.0)\n",
        "\n",
        " (включая 0.0, но не включая 1.0)."
      ]
    },
    {
      "cell_type": "code",
      "execution_count": null,
      "id": "2b716608",
      "metadata": {
        "id": "2b716608",
        "colab": {
          "base_uri": "https://localhost:8080/"
        },
        "outputId": "bc724390-3eb3-4c9e-9e0e-cc5e3ae33e54"
      },
      "outputs": [
        {
          "output_type": "stream",
          "name": "stdout",
          "text": [
            "0.2915653133883722\n"
          ]
        }
      ],
      "source": [
        "import random\n",
        "\n",
        "random_number = random.random()\n",
        "print(random_number)"
      ]
    },
    {
      "cell_type": "markdown",
      "id": "8d4f5f10",
      "metadata": {
        "id": "8d4f5f10"
      },
      "source": [
        "## Задача 3. Как перевести случайные градусы Цельсия в градусы Фаренгейта.\n",
        "\n",
        "Сделайте снова перевод градусов Цельсия в Фаренгейт, только теперь не запрашивайте градусы с клавиатуры, а сгенерируйте случайно в диапазоне [-50, 42]"
      ]
    },
    {
      "cell_type": "code",
      "execution_count": null,
      "id": "39f06ca3",
      "metadata": {
        "id": "39f06ca3",
        "colab": {
          "base_uri": "https://localhost:8080/"
        },
        "outputId": "8a3de15b-8406-428b-e697-3594c392ffe3"
      },
      "outputs": [
        {
          "output_type": "stream",
          "name": "stdout",
          "text": [
            "The temperature is  14  in celcius\n",
            "The temperature is  57.2  in fahrenheit\n"
          ]
        }
      ],
      "source": [
        "import random\n",
        "\n",
        "c = random.randint (-50,43)\n",
        "print (\"The temperature is \",c,\" in celcius\")\n",
        "f = 1.8 * c + 32\n",
        "print(\"The temperature is \",f,\" in fahrenheit\")"
      ]
    },
    {
      "cell_type": "markdown",
      "id": "06be6026",
      "metadata": {
        "id": "06be6026"
      },
      "source": [
        "# Задание 1\n",
        "\n",
        "Карандаш стоит X рублей за штуку. Покупатель дал кассиру Y рублей и хочет купить 8 карандашей. Какую сдачу он должен получить? Ответ дайте в рублях. (X и Y запросить у пользователя)\n"
      ]
    },
    {
      "cell_type": "code",
      "source": [
        "import math\n",
        "def get_integer_in_range(prompt, min_value, max_value):\n",
        "  while True:\n",
        "    value = float(input(prompt))\n",
        "    if min_value <= value <= max_value:\n",
        "      return value\n",
        "    else:\n",
        "      print(f\"Ошибка: карандаш не может стоит меньше {min_value} рублей и стоить дороже суммы покупателя, а именно {max_value} рублей.\")\n",
        "\n",
        "y = float(input('Сколько рублей у покупателя? '))\n",
        "sum_buyer = float(y)\n",
        "sum_one_pencil = get_integer_in_range('Сколько рублей стоит карандаш? ', 0, sum_buyer)\n",
        "sum_all_pencils = sum_one_pencil*8\n",
        "print ('Стоимость 8 карандашей составляет', sum_all_pencils, 'рублей.')\n",
        "if sum_all_pencils > sum_buyer:\n",
        "  all_pencils = sum_buyer / sum_one_pencil\n",
        "  all_pencils = (math.floor (all_pencils))\n",
        "  print('Покупателю не хватает денег на 8 карандешей, но он может купить', all_pencils, 'карандашей.')\n",
        "  change = sum_buyer - all_pencils * sum_one_pencil\n",
        "  print ('Покупатель получит сдачу', change, 'рублей.')\n",
        "else:\n",
        "  change = sum_buyer - sum_all_pencils\n",
        "  print ('Покупатель получит сдачу', change, 'рублей.')\n",
        "\n",
        "  #я запуталась в логике задаче, так как данные можно ввести так, что это будет нарушать логику. Например стоимость карндаша может оказаться больше, чем сумма которая есть у покателя\n",
        "  #В связи с этим я решила использовать def, чтобы ограничить ввод данных на сумму одного карандаша\n",
        "\n",
        "  #Помимо этого, может быть ситуация, в которой не хватает денег на 8 карандашей.\n",
        "  #Для этого я подсчитала какая будет сдача, даже если у покупателя не будет хватать денег на 8 карандашей, и он купить меньше."
      ],
      "metadata": {
        "id": "ZsmtfsxcTndr",
        "colab": {
          "base_uri": "https://localhost:8080/"
        },
        "outputId": "22a0728f-257e-42c0-f6ff-6494b0add1b4"
      },
      "id": "ZsmtfsxcTndr",
      "execution_count": 4,
      "outputs": [
        {
          "output_type": "stream",
          "name": "stdout",
          "text": [
            "Сколько рублей у покупателя? 56537583\n",
            "Сколько рублей стоит карандаш? 23\n",
            "Стоимость 8 карандашей составляет 184.0 рублей.\n",
            "Покупатель получит сдачу 56537399.0 рублей.\n"
          ]
        }
      ]
    },
    {
      "cell_type": "markdown",
      "id": "fbba2f6b",
      "metadata": {
        "id": "fbba2f6b"
      },
      "source": [
        "# Задание 3\n",
        "\n",
        "Ребенок в день съедает X творожка. Творожок продается в упаковках по Y штук. Какое наименьшее число упаковок надо купить, чтобы ребенку хватило на две недели?  (X и Y запросить у пользователя)"
      ]
    },
    {
      "cell_type": "code",
      "execution_count": null,
      "id": "b6861407",
      "metadata": {
        "id": "b6861407",
        "colab": {
          "base_uri": "https://localhost:8080/"
        },
        "outputId": "6f0e9a5a-edc3-49a7-fa35-4eff8543b1af"
      },
      "outputs": [
        {
          "output_type": "stream",
          "name": "stdout",
          "text": [
            "Сколько творожков съедает в день ребенок? 8\n",
            "Сколько творожков в одной упаковке? 10\n",
            "Ребенок съедает 112 творожков за 2 недели.\n",
            "Необходимо 11.2 не целых упаковок творожка на 2 недели.\n",
            "Нужно купить минимум 12 упаковок творожка, чтобы ребенку хватило на 2 недели.\n"
          ]
        }
      ],
      "source": [
        "import math\n",
        "\n",
        "x=int(input('Сколько творожков съедает в день ребенок? '))\n",
        "y=int(input('Сколько творожков в одной упаковке? '))\n",
        "c = x*14\n",
        "print ('Ребенок съедает', c, 'творожков за 2 недели.')\n",
        "b = c/y\n",
        "print ('Необходимо', b, 'не целых упаковок творожка на 2 недели.')\n",
        "b =  (math.ceil(b))\n",
        "print ('Нужно купить минимум', b, 'упаковок творожка, чтобы ребенку хватило на 2 недели.')"
      ]
    },
    {
      "cell_type": "markdown",
      "id": "259d0e60",
      "metadata": {
        "id": "259d0e60"
      },
      "source": [
        "# Задание 4\n",
        "\n",
        "Килограмм картошки стоит Х рублей. У Олега есть 1000 р, из этой суммы он 640 р должен положить на телефон, а на остальные деньги он купил картошку. Сколько килограмм купил Олег, если он получил сдачу Y рублей?\n",
        " (X и Y запросить у пользователя)"
      ]
    },
    {
      "cell_type": "code",
      "execution_count": null,
      "id": "8f9fa034",
      "metadata": {
        "id": "8f9fa034",
        "colab": {
          "base_uri": "https://localhost:8080/"
        },
        "outputId": "172327fd-0f46-4308-90ca-9fc7f945266d"
      },
      "outputs": [
        {
          "output_type": "stream",
          "name": "stdout",
          "text": [
            "Сколько рублей стоит киллограм картошки? 56\n",
            "Сколько рублей на сдачу получил Олег после покупки картошки? 777\n",
            "Ошибка: сдача должна быть от 0 рублей до 359 рублей.\n",
            "Сколько рублей на сдачу получил Олег после покупки картошки? 67\n",
            "Олег потратил на картошку 293.0 рублей.\n",
            "Олег купил 5.23 килограмм картошки.\n"
          ]
        }
      ],
      "source": [
        "def get_integer_in_range(prompt, min_value, max_value):\n",
        "  while True:\n",
        "    value = float(input(prompt))\n",
        "    if min_value <= value <= max_value:\n",
        "      return value\n",
        "    else:\n",
        "      print(f\"Ошибка: сдача должна быть от {min_value} рублей до {max_value} рублей.\")\n",
        "\n",
        "x=int(input('Сколько рублей стоит киллограм картошки? '))\n",
        "y=get_integer_in_range(\"Сколько рублей на сдачу получил Олег после покупки картошки? \", 0, 359)\n",
        "c=(1000-640-y)\n",
        "print ('Олег потратил на картошку', c, 'рублей.')\n",
        "b=c/x\n",
        "b= (round(b,2))\n",
        "print ('Олег купил', b, 'килограмм картошки.')"
      ]
    }
  ],
  "metadata": {
    "kernelspec": {
      "display_name": "Python 3 (ipykernel)",
      "language": "python",
      "name": "python3"
    },
    "language_info": {
      "codemirror_mode": {
        "name": "ipython",
        "version": 3
      },
      "file_extension": ".py",
      "mimetype": "text/x-python",
      "name": "python",
      "nbconvert_exporter": "python",
      "pygments_lexer": "ipython3",
      "version": "3.9.13"
    },
    "colab": {
      "provenance": []
    }
  },
  "nbformat": 4,
  "nbformat_minor": 5
}