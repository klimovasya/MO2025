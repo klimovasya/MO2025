{
  "cells": [
    {
      "cell_type": "markdown",
      "id": "c045c11a",
      "metadata": {
        "id": "c045c11a"
      },
      "source": [
        "# 2. Переменные\n",
        "\n",
        "## 2.1. Правила для имен переменных\n",
        "* Имя не может начинаться с числа.\n",
        "* В имени не может быть пробелов, вместо этого используйте нижнее подчёркивание: \"_\".\n",
        "* Имя не может содержать следующие символы:\n",
        "\n",
        "      :'\",<>/?|\\!@#%^&*~-+\n",
        "       \n",
        "* Считается хорошей практикой писать имена в нижнем регистре - см. [PEP8](https://www.python.org/dev/peps/pep-0008/#function-and-variable-names)\n",
        "* Не используйте в качестве названий переменных ключевые слова Python, такие как `list` и `str`\n",
        "* Не используйте следующие имена из одной буквы: 'l' (нижний регистр буквы L), 'O' (Верхний регистр буквы о), и 'I' (верхний регистр буквы i), потому что их можно спутать с единицей '1' и нулем '0'."
      ]
    },
    {
      "cell_type": "markdown",
      "id": "eb7ee4ab",
      "metadata": {
        "id": "eb7ee4ab"
      },
      "source": [
        "## 2.2. Динамические типы данных\n",
        "\n",
        "Python использует динамические типы данных (*dynamic typing*), то есть Вы можете присваивать переменным значения сначала одного, а затем другого типа. Благодаря этому Python очень гибко работает с типами данных; это отличает его от тех языков программирования, в которых типы данных *статичные*."
      ]
    },
    {
      "cell_type": "code",
      "execution_count": 1,
      "id": "7ae68f07",
      "metadata": {
        "collapsed": true,
        "id": "7ae68f07"
      },
      "outputs": [],
      "source": [
        "my_dogs = 2"
      ]
    },
    {
      "cell_type": "code",
      "execution_count": 2,
      "id": "2a61a3af",
      "metadata": {
        "colab": {
          "base_uri": "https://localhost:8080/"
        },
        "id": "2a61a3af",
        "outputId": "de49f5a3-3346-4c2d-be1e-83e9d2bbb70c"
      },
      "outputs": [
        {
          "output_type": "execute_result",
          "data": {
            "text/plain": [
              "2"
            ]
          },
          "metadata": {},
          "execution_count": 2
        }
      ],
      "source": [
        "my_dogs"
      ]
    },
    {
      "cell_type": "code",
      "execution_count": null,
      "id": "e4309b20",
      "metadata": {
        "collapsed": true,
        "id": "e4309b20"
      },
      "outputs": [],
      "source": [
        "my_dogs = ['Sammy', 'Frankie']"
      ]
    },
    {
      "cell_type": "code",
      "execution_count": null,
      "id": "30282a8b",
      "metadata": {
        "id": "30282a8b",
        "outputId": "97b7887f-6288-4053-9c09-8626a641ebc8"
      },
      "outputs": [
        {
          "data": {
            "text/plain": [
              "['Sammy', 'Frankie']"
            ]
          },
          "execution_count": 4,
          "metadata": {},
          "output_type": "execute_result"
        }
      ],
      "source": [
        "my_dogs"
      ]
    },
    {
      "cell_type": "markdown",
      "id": "03a97ccb",
      "metadata": {
        "id": "03a97ccb"
      },
      "source": [
        "### Плюсы и минусы динамических типов данных\n",
        "#### Плюсы\n",
        "* легче работать\n",
        "* быстрее время разработки\n",
        "\n",
        "#### Минусы\n",
        "* можно получить неожиданные ошибки!\n",
        "* нужно следить за типами данных - `type()`"
      ]
    },
    {
      "cell_type": "markdown",
      "id": "0f4894ea",
      "metadata": {
        "id": "0f4894ea"
      },
      "source": [
        "## 2.3. Присвоение переменных\n",
        "Присвоение переменных пишется вот так: `name = object`, где оператор `=` это оператор присвоения (*assignment operator*)"
      ]
    },
    {
      "cell_type": "code",
      "execution_count": null,
      "id": "4360ef71",
      "metadata": {
        "collapsed": true,
        "id": "4360ef71"
      },
      "outputs": [],
      "source": [
        "a = 5"
      ]
    },
    {
      "cell_type": "code",
      "execution_count": null,
      "id": "fe5f1b6e",
      "metadata": {
        "id": "fe5f1b6e",
        "outputId": "9a1ce5f4-555b-444b-8165-5be7c8aa6641"
      },
      "outputs": [
        {
          "data": {
            "text/plain": [
              "5"
            ]
          },
          "execution_count": 6,
          "metadata": {},
          "output_type": "execute_result"
        }
      ],
      "source": [
        "a"
      ]
    },
    {
      "cell_type": "markdown",
      "id": "b43c1536",
      "metadata": {
        "id": "b43c1536"
      },
      "source": [
        "Мы присвоили переменной с именем 'a' числовой объект `5`.<br>Давайте присвоим `a` другое значение:"
      ]
    },
    {
      "cell_type": "code",
      "execution_count": null,
      "id": "60ca0cb2",
      "metadata": {
        "collapsed": true,
        "id": "60ca0cb2"
      },
      "outputs": [],
      "source": [
        "a = 10"
      ]
    },
    {
      "cell_type": "code",
      "execution_count": null,
      "id": "11090ca6",
      "metadata": {
        "scrolled": true,
        "id": "11090ca6",
        "outputId": "bc77bd5a-8846-4242-a74c-9830525397a8"
      },
      "outputs": [
        {
          "data": {
            "text/plain": [
              "10"
            ]
          },
          "execution_count": 8,
          "metadata": {},
          "output_type": "execute_result"
        }
      ],
      "source": [
        "a"
      ]
    },
    {
      "cell_type": "markdown",
      "id": "12ec95aa",
      "metadata": {
        "id": "12ec95aa"
      },
      "source": [
        "Теперь можно использовать `a` вместо числа `10`:"
      ]
    },
    {
      "cell_type": "code",
      "execution_count": null,
      "id": "acf32c87",
      "metadata": {
        "id": "acf32c87",
        "outputId": "8a4efde8-57d8-4ac5-d14e-28525fdb884d"
      },
      "outputs": [
        {
          "data": {
            "text/plain": [
              "20"
            ]
          },
          "execution_count": 9,
          "metadata": {},
          "output_type": "execute_result"
        }
      ],
      "source": [
        "a + a"
      ]
    },
    {
      "cell_type": "markdown",
      "id": "09da8d05",
      "metadata": {
        "id": "09da8d05"
      },
      "source": [
        "## 2.3. Переопределение переменных\n",
        "Python позволяет переопределять переменные, ссылаясь на тот же самый объект."
      ]
    },
    {
      "cell_type": "code",
      "execution_count": null,
      "id": "03472706",
      "metadata": {
        "collapsed": true,
        "id": "03472706"
      },
      "outputs": [],
      "source": [
        "a = a + 10"
      ]
    },
    {
      "cell_type": "code",
      "execution_count": null,
      "id": "df7d3626",
      "metadata": {
        "id": "df7d3626",
        "outputId": "a4a07959-3863-4f96-bf5e-2668e944aefd"
      },
      "outputs": [
        {
          "data": {
            "text/plain": [
              "20"
            ]
          },
          "execution_count": 11,
          "metadata": {},
          "output_type": "execute_result"
        }
      ],
      "source": [
        "a"
      ]
    },
    {
      "cell_type": "markdown",
      "id": "7fa225cf",
      "metadata": {
        "id": "7fa225cf"
      },
      "source": [
        "И это можно написать в короткой форме. Python позволяет складывать, вычитать, умножать и делить числа с помощью `+=`, `-=`, `*=` и `/=`."
      ]
    },
    {
      "cell_type": "code",
      "execution_count": null,
      "id": "2f3828c8",
      "metadata": {
        "id": "2f3828c8"
      },
      "outputs": [],
      "source": [
        "a += 10 # это означает:  a = a + 10"
      ]
    },
    {
      "cell_type": "code",
      "execution_count": null,
      "id": "2e0043a6",
      "metadata": {
        "id": "2e0043a6",
        "outputId": "851f0beb-c0de-44b2-95c2-dc7398841e8b"
      },
      "outputs": [
        {
          "data": {
            "text/plain": [
              "30"
            ]
          },
          "execution_count": 13,
          "metadata": {},
          "output_type": "execute_result"
        }
      ],
      "source": [
        "a"
      ]
    },
    {
      "cell_type": "code",
      "execution_count": null,
      "id": "dedc65d1",
      "metadata": {
        "collapsed": true,
        "id": "dedc65d1"
      },
      "outputs": [],
      "source": [
        "a *= 2  # это означает:  a = a * 10"
      ]
    },
    {
      "cell_type": "code",
      "execution_count": null,
      "id": "419f2696",
      "metadata": {
        "id": "419f2696",
        "outputId": "5d589cf6-0ade-48ef-ae1e-032b17983f84"
      },
      "outputs": [
        {
          "data": {
            "text/plain": [
              "60"
            ]
          },
          "execution_count": 15,
          "metadata": {},
          "output_type": "execute_result"
        }
      ],
      "source": [
        "a"
      ]
    },
    {
      "cell_type": "markdown",
      "id": "23d8497c",
      "metadata": {
        "id": "23d8497c"
      },
      "source": [
        "## 2.4. Определение типа переменной с помощью `type()`\n",
        "Вы можете узнать тип объекта, который был присвоен переменной, с помощью встроенной функции `type()`. Часто используемые типы данных:\n",
        "* **int** (для integer)\n",
        "* **float**\n",
        "* **str** (для string)\n",
        "* **list**\n",
        "* **tuple**\n",
        "* **dict** (для dictionary)\n",
        "* **set**\n",
        "* **bool** (для Boolean True/False)"
      ]
    },
    {
      "cell_type": "code",
      "execution_count": null,
      "id": "dd69b431",
      "metadata": {
        "id": "dd69b431",
        "outputId": "c0c936ad-3655-42d8-ba28-4d7892b0c253"
      },
      "outputs": [
        {
          "data": {
            "text/plain": [
              "int"
            ]
          },
          "execution_count": 16,
          "metadata": {},
          "output_type": "execute_result"
        }
      ],
      "source": [
        "type(a)"
      ]
    },
    {
      "cell_type": "code",
      "execution_count": null,
      "id": "d5c0be20",
      "metadata": {
        "collapsed": true,
        "id": "d5c0be20"
      },
      "outputs": [],
      "source": [
        "a = (1,2)"
      ]
    },
    {
      "cell_type": "code",
      "execution_count": null,
      "id": "d54d1086",
      "metadata": {
        "id": "d54d1086",
        "outputId": "ff5749cd-1af5-4d69-8e88-b8dde3f07a63"
      },
      "outputs": [
        {
          "data": {
            "text/plain": [
              "tuple"
            ]
          },
          "execution_count": 18,
          "metadata": {},
          "output_type": "execute_result"
        }
      ],
      "source": [
        "type(a)"
      ]
    },
    {
      "cell_type": "markdown",
      "id": "e5aa0b1e",
      "metadata": {
        "id": "e5aa0b1e"
      },
      "source": [
        "## Простой пример\n",
        "Здесь показано, как осмысленные названия переменных могут сделать ваш код более читаемым."
      ]
    },
    {
      "cell_type": "code",
      "execution_count": null,
      "id": "8137da5f",
      "metadata": {
        "collapsed": true,
        "id": "8137da5f"
      },
      "outputs": [],
      "source": [
        "my_income = 100\n",
        "tax_rate = 0.1\n",
        "my_taxes = my_income * tax_rate"
      ]
    },
    {
      "cell_type": "code",
      "execution_count": null,
      "id": "d9bf487a",
      "metadata": {
        "id": "d9bf487a",
        "outputId": "0a9e5de4-fbaa-43c3-8d03-66bd13548f88"
      },
      "outputs": [
        {
          "data": {
            "text/plain": [
              "10.0"
            ]
          },
          "execution_count": 20,
          "metadata": {},
          "output_type": "execute_result"
        }
      ],
      "source": [
        "my_taxes"
      ]
    },
    {
      "cell_type": "markdown",
      "id": "66fca75d",
      "metadata": {
        "id": "66fca75d",
        "pycharm": {
          "name": "#%% md\n"
        }
      },
      "source": [
        "## 2.5. Типы данных\n",
        "Типы данных, которые есть в python. [официальная документация](https://docs.python.org/3/library/stdtypes.html).\n",
        "\n",
        "1.   Числа (int, float, complex).\n",
        "2.   Строки.\n",
        "3.   Логический тип данных.\n",
        "4.   Переменные\n"
      ]
    },
    {
      "cell_type": "markdown",
      "id": "06ff5bbd",
      "metadata": {
        "id": "06ff5bbd",
        "pycharm": {
          "name": "#%% md\n"
        }
      },
      "source": [
        "## Целые числа\n",
        "Целые числа могут иметь бесконечную длину"
      ]
    },
    {
      "cell_type": "code",
      "execution_count": null,
      "id": "232e996e",
      "metadata": {
        "colab": {
          "base_uri": "https://localhost:8080/"
        },
        "id": "232e996e",
        "outputId": "5aaf88fb-82f2-414b-abb0-dd07d2b09405",
        "pycharm": {
          "name": "#%%\n"
        }
      },
      "outputs": [
        {
          "name": "stdout",
          "output_type": "stream",
          "text": [
            "11111111111111111111111111111111111111111111111111111111111111111111111113\n"
          ]
        }
      ],
      "source": [
        "print(11111111111111111111111111111111111111111111111111111111111111111111111111 + 2)"
      ]
    },
    {
      "cell_type": "markdown",
      "id": "ddf64bd4",
      "metadata": {
        "id": "ddf64bd4",
        "pycharm": {
          "name": "#%% md\n"
        }
      },
      "source": [
        "Python поддерживает несколько систем исчисления\n",
        "1.   Восьмеричную\n",
        "2.   Шестнадцатеричную\n",
        "3.   Двоичную\n",
        "\n",
        "Посмотрите вики [link](https://ru.wikipedia.org/wiki/%D0%A8%D0%B5%D1%81%D1%82%D0%BD%D0%B0%D0%B4%D1%86%D0%B0%D1%82%D0%B5%D1%80%D0%B8%D1%87%D0%BD%D0%B0%D1%8F_%D1%81%D0%B8%D1%81%D1%82%D0%B5%D0%BC%D0%B0_%D1%81%D1%87%D0%B8%D1%81%D0%BB%D0%B5%D0%BD%D0%B8%D1%8F)"
      ]
    },
    {
      "cell_type": "code",
      "execution_count": null,
      "id": "c85c803a",
      "metadata": {
        "colab": {
          "base_uri": "https://localhost:8080/"
        },
        "id": "c85c803a",
        "outputId": "a1cadd53-aee8-4527-aeee-2e28c243d8ab",
        "pycharm": {
          "name": "#%%\n"
        }
      },
      "outputs": [
        {
          "name": "stdout",
          "output_type": "stream",
          "text": [
            "9\n",
            "26\n",
            "2\n"
          ]
        }
      ],
      "source": [
        "print(0o11)  # base = 8\n",
        "print(0x1A)  # base = 16\n",
        "print(0b10)  # base = 2"
      ]
    },
    {
      "cell_type": "code",
      "execution_count": null,
      "id": "487f2d58",
      "metadata": {
        "colab": {
          "base_uri": "https://localhost:8080/"
        },
        "id": "487f2d58",
        "outputId": "25d291ca-37f0-40dc-c8c4-74b46a72568c",
        "pycharm": {
          "name": "#%%\n"
        }
      },
      "outputs": [
        {
          "name": "stdout",
          "output_type": "stream",
          "text": [
            "<class 'int'>\n",
            "<class 'int'>\n"
          ]
        }
      ],
      "source": [
        "# это все тип int, над которым работает арифметика\n",
        "print(type(10))\n",
        "print(type(0o10))"
      ]
    },
    {
      "cell_type": "markdown",
      "id": "b04f6a39",
      "metadata": {
        "id": "b04f6a39",
        "pycharm": {
          "name": "#%% md\n"
        }
      },
      "source": [
        "## Числа с плавающей точкой"
      ]
    },
    {
      "cell_type": "code",
      "execution_count": null,
      "id": "8f0a211c",
      "metadata": {
        "colab": {
          "base_uri": "https://localhost:8080/"
        },
        "id": "8f0a211c",
        "outputId": "313fc3f5-05ec-4928-8155-76926c2b20c1",
        "pycharm": {
          "name": "#%%\n"
        }
      },
      "outputs": [
        {
          "name": "stdout",
          "output_type": "stream",
          "text": [
            "4.2\n",
            "<class 'float'>\n",
            "4.0\n",
            "0.2\n",
            "4000000.0\n",
            "<class 'float'>\n",
            "4000.0\n",
            "True\n",
            "2.2e-05\n"
          ]
        }
      ],
      "source": [
        "print(4.2)\n",
        "print(type(4.2))\n",
        "print(4.)\n",
        "print(.2)\n",
        "print(.4e7)\n",
        "print(type(.4e7))\n",
        "print(4e+3)\n",
        "print(2.2e-5 == 0.000022)\n",
        "print(0.000022)"
      ]
    },
    {
      "cell_type": "code",
      "execution_count": null,
      "id": "8666579d",
      "metadata": {
        "colab": {
          "base_uri": "https://localhost:8080/"
        },
        "id": "8666579d",
        "outputId": "8acaa3be-92c8-493a-fd3c-8e8db7cdca28",
        "pycharm": {
          "name": "#%%\n"
        }
      },
      "outputs": [
        {
          "name": "stdout",
          "output_type": "stream",
          "text": [
            "1.79e+308\n",
            "inf\n",
            "5e-324\n",
            "0.0\n"
          ]
        }
      ],
      "source": [
        "# У вещественных чисел существует ограничение\n",
        "\n",
        "# бесконечность\n",
        "print(1.79e308)\n",
        "print(1.8e308)\n",
        "# ближайшее к нулю\n",
        "print(5e-324)\n",
        "print(1e-325)"
      ]
    },
    {
      "cell_type": "code",
      "execution_count": null,
      "id": "62beeaf8",
      "metadata": {
        "colab": {
          "base_uri": "https://localhost:8080/"
        },
        "id": "62beeaf8",
        "outputId": "6b68b902-628e-4412-cc0b-7e069cc2c7ce",
        "pycharm": {
          "name": "#%%\n"
        }
      },
      "outputs": [
        {
          "name": "stdout",
          "output_type": "stream",
          "text": [
            "-inf\n",
            "True\n",
            "False\n"
          ]
        }
      ],
      "source": [
        "# есть также константа inf, удобная для определения бесконечных\n",
        "print(-float(\"inf\"))\n",
        "print(float(\"inf\") > 10e300)\n",
        "print(float(\"inf\") > 10e400)"
      ]
    },
    {
      "cell_type": "code",
      "execution_count": null,
      "id": "76097f16",
      "metadata": {
        "pycharm": {
          "name": "#%%\n"
        },
        "id": "76097f16",
        "outputId": "8957a8b1-3b2a-488c-e780-036aba646521"
      },
      "outputs": [
        {
          "data": {
            "text/plain": [
              "True"
            ]
          },
          "execution_count": 77,
          "metadata": {},
          "output_type": "execute_result"
        }
      ],
      "source": [
        "(1.1 + 2.2) - 3.3 < 0.1"
      ]
    },
    {
      "cell_type": "markdown",
      "id": "e28f3c82",
      "metadata": {
        "id": "e28f3c82",
        "pycharm": {
          "name": "#%% md\n"
        }
      },
      "source": [
        "## Общие операции для разных численных типов данных\n",
        "\n",
        "<table class=\"docutils align-default\">\n",
        "<colgroup>\n",
        "<col style=\"width: 25%\">\n",
        "<col style=\"width: 40%\">\n",
        "<col style=\"width: 11%\">\n",
        "<col style=\"width: 24%\">\n",
        "</colgroup>\n",
        "<thead>\n",
        "<tr class=\"row-odd\"><th class=\"head\"><p>Operation</p></th>\n",
        "<th class=\"head\"><p>Result</p></th>\n",
        "<th class=\"head\"><p>Notes</p></th>\n",
        "<th class=\"head\"><p>Full documentation</p></th>\n",
        "</tr>\n",
        "</thead>\n",
        "<tbody>\n",
        "<tr class=\"row-even\"><td><p><code class=\"docutils literal notranslate\"><span class=\"pre\">x</span> <span class=\"pre\">+</span> <span class=\"pre\">y</span></code></p></td>\n",
        "<td><p>sum of <em>x</em> and <em>y</em></p></td>\n",
        "<td></td>\n",
        "<td></td>\n",
        "</tr>\n",
        "<tr class=\"row-odd\"><td><p><code class=\"docutils literal notranslate\"><span class=\"pre\">x</span> <span class=\"pre\">-</span> <span class=\"pre\">y</span></code></p></td>\n",
        "<td><p>difference of <em>x</em> and <em>y</em></p></td>\n",
        "<td></td>\n",
        "<td></td>\n",
        "</tr>\n",
        "<tr class=\"row-even\"><td><p><code class=\"docutils literal notranslate\"><span class=\"pre\">x</span> <span class=\"pre\">*</span> <span class=\"pre\">y</span></code></p></td>\n",
        "<td><p>product of <em>x</em> and <em>y</em></p></td>\n",
        "<td></td>\n",
        "<td></td>\n",
        "</tr>\n",
        "<tr class=\"row-odd\"><td><p><code class=\"docutils literal notranslate\"><span class=\"pre\">x</span> <span class=\"pre\">/</span> <span class=\"pre\">y</span></code></p></td>\n",
        "<td><p>quotient of <em>x</em> and <em>y</em></p></td>\n",
        "<td></td>\n",
        "<td></td>\n",
        "</tr>\n",
        "<tr class=\"row-even\"><td><p><code class=\"docutils literal notranslate\"><span class=\"pre\">x</span> <span class=\"pre\">//</span> <span class=\"pre\">y</span></code></p></td>\n",
        "<td><p>floored quotient of <em>x</em> and\n",
        "<em>y</em></p></td>\n",
        "<td><p></p></td>\n",
        "<td></td>\n",
        "</tr>\n",
        "<tr class=\"row-odd\"><td><p><code class=\"docutils literal notranslate\"><span class=\"pre\">x</span> <span class=\"pre\">%</span> <span class=\"pre\">y</span></code></p></td>\n",
        "<td><p>remainder of <code class=\"docutils literal notranslate\"><span class=\"pre\">x</span> <span class=\"pre\">/</span> <span class=\"pre\">y</span></code></p></td>\n",
        "<td><p></p></td>\n",
        "<td></td>\n",
        "</tr>\n",
        "<tr class=\"row-even\"><td><p><code class=\"docutils literal notranslate\"><span class=\"pre\">-x</span></code></p></td>\n",
        "<td><p><em>x</em> negated</p></td>\n",
        "<td></td>\n",
        "<td></td>\n",
        "</tr>\n",
        "<tr class=\"row-odd\"><td><p><code class=\"docutils literal notranslate\"><span class=\"pre\">+x</span></code></p></td>\n",
        "<td><p><em>x</em> unchanged</p></td>\n",
        "<td></td>\n",
        "<td></td>\n",
        "</tr>\n",
        "<tr class=\"row-even\"><td><p><code class=\"docutils literal notranslate\"><span class=\"pre\">abs(x)</span></code></p></td>\n",
        "<td><p>absolute value or magnitude of\n",
        "<em>x</em></p></td>\n",
        "<td></td>\n",
        "<td><p><a class=\"reference internal\" href=\"functions.html#abs\" title=\"abs\"><code class=\"xref py py-func docutils literal notranslate\"><span class=\"pre\">abs()</span></code></a></p></td>\n",
        "</tr>\n",
        "<tr class=\"row-odd\"><td><p><code class=\"docutils literal notranslate\"><span class=\"pre\">int(x)</span></code></p></td>\n",
        "<td><p><em>x</em> converted to integer</p></td>\n",
        "<td><p></p></td>\n",
        "<td><p><a class=\"reference internal\" href=\"functions.html#int\" title=\"int\"><code class=\"xref py py-func docutils literal notranslate\"><span class=\"pre\">int()</span></code></a></p></td>\n",
        "</tr>\n",
        "<tr class=\"row-even\"><td><p><code class=\"docutils literal notranslate\"><span class=\"pre\">float(x)</span></code></p></td>\n",
        "<td><p><em>x</em> converted to floating point</p></td>\n",
        "<td><p></p></td>\n",
        "<td><p><a class=\"reference internal\" href=\"functions.html#float\" title=\"float\"><code class=\"xref py py-func docutils literal notranslate\"><span class=\"pre\">float()</span></code></a></p></td>\n",
        "</tr>\n",
        "<tr class=\"row-even\"><td><p><code class=\"docutils literal notranslate\"><span class=\"pre\">pow(x,</span> <span class=\"pre\">y)</span></code></p></td>\n",
        "<td><p><em>x</em> to the power <em>y</em></p></td>\n",
        "<td><p></p></td>\n",
        "<td><p><a class=\"reference internal\" href=\"functions.html#pow\" title=\"pow\"><code class=\"xref py py-func docutils literal notranslate\"><span class=\"pre\">pow()</span></code></a></p></td>\n",
        "</tr>\n",
        "<tr class=\"row-odd\"><td><p><code class=\"docutils literal notranslate\"><span class=\"pre\">x</span> <span class=\"pre\">**</span> <span class=\"pre\">y</span></code></p></td>\n",
        "<td><p><em>x</em> to the power <em>y</em></p></td>\n",
        "<td><p></p></td>\n",
        "<td></td>\n",
        "</tr>\n",
        "</tbody>\n",
        "</table>"
      ]
    },
    {
      "cell_type": "code",
      "execution_count": null,
      "id": "13c81f9f",
      "metadata": {
        "id": "13c81f9f",
        "pycharm": {
          "name": "#%%\n"
        }
      },
      "outputs": [],
      "source": [
        "# Для чисел 94 и 43 примените здесь все эти операции"
      ]
    },
    {
      "cell_type": "code",
      "source": [
        "x=94\n",
        "y=43\n",
        "c=x+y\n",
        "print(c)"
      ],
      "metadata": {
        "colab": {
          "base_uri": "https://localhost:8080/"
        },
        "id": "zX3qDvHoazi8",
        "outputId": "89457bb0-73b6-40c1-9fe1-4623f3f730ff"
      },
      "execution_count": 8,
      "outputs": [
        {
          "output_type": "stream",
          "name": "stdout",
          "text": [
            "137\n"
          ]
        }
      ],
      "id": "zX3qDvHoazi8"
    },
    {
      "cell_type": "code",
      "source": [
        "x=94\n",
        "y=43\n",
        "c=x-y\n",
        "print(c)"
      ],
      "metadata": {
        "colab": {
          "base_uri": "https://localhost:8080/"
        },
        "id": "Kudt9CG4b0wY",
        "outputId": "6bbb3331-e17d-4a3d-e6eb-222364b90727"
      },
      "execution_count": 9,
      "outputs": [
        {
          "output_type": "stream",
          "name": "stdout",
          "text": [
            "51\n"
          ]
        }
      ],
      "id": "Kudt9CG4b0wY"
    },
    {
      "cell_type": "code",
      "source": [
        "x=94\n",
        "y=43\n",
        "c=x*y\n",
        "print(c)"
      ],
      "metadata": {
        "colab": {
          "base_uri": "https://localhost:8080/"
        },
        "id": "7ZflhdwBb1Cg",
        "outputId": "4428f6c9-15f7-4daa-b122-0f44dc2916f3"
      },
      "execution_count": 10,
      "outputs": [
        {
          "output_type": "stream",
          "name": "stdout",
          "text": [
            "4042\n"
          ]
        }
      ],
      "id": "7ZflhdwBb1Cg"
    },
    {
      "cell_type": "code",
      "source": [
        "x=94\n",
        "y=43\n",
        "c=x/y\n",
        "print(c)"
      ],
      "metadata": {
        "colab": {
          "base_uri": "https://localhost:8080/"
        },
        "id": "djoXu96Db1Mh",
        "outputId": "86c09c3e-27ff-48ce-c47a-7c60527821e6"
      },
      "execution_count": 11,
      "outputs": [
        {
          "output_type": "stream",
          "name": "stdout",
          "text": [
            "2.186046511627907\n"
          ]
        }
      ],
      "id": "djoXu96Db1Mh"
    },
    {
      "cell_type": "code",
      "source": [
        "x=94\n",
        "y=43\n",
        "c=x//y\n",
        "print(c)"
      ],
      "metadata": {
        "colab": {
          "base_uri": "https://localhost:8080/"
        },
        "id": "QfupTGoPb1VY",
        "outputId": "a26eddf1-0bb7-4670-8d44-a7665caa8bc0"
      },
      "execution_count": 12,
      "outputs": [
        {
          "output_type": "stream",
          "name": "stdout",
          "text": [
            "2\n"
          ]
        }
      ],
      "id": "QfupTGoPb1VY"
    },
    {
      "cell_type": "code",
      "source": [
        "x=94\n",
        "y=43\n",
        "c=x%y\n",
        "print(c)"
      ],
      "metadata": {
        "colab": {
          "base_uri": "https://localhost:8080/"
        },
        "id": "hJhp_8iGb1gO",
        "outputId": "12d884c3-4df3-4ef7-8b80-074d464454a1"
      },
      "execution_count": 13,
      "outputs": [
        {
          "output_type": "stream",
          "name": "stdout",
          "text": [
            "8\n"
          ]
        }
      ],
      "id": "hJhp_8iGb1gO"
    },
    {
      "cell_type": "code",
      "source": [
        "x=94\n",
        "y=43\n",
        "c=(-x)\n",
        "print(c)"
      ],
      "metadata": {
        "colab": {
          "base_uri": "https://localhost:8080/"
        },
        "id": "ZNQwHszjb1nE",
        "outputId": "8c3cb1ce-48d5-4530-c684-8d7e8d243a93"
      },
      "execution_count": 14,
      "outputs": [
        {
          "output_type": "stream",
          "name": "stdout",
          "text": [
            "-94\n"
          ]
        }
      ],
      "id": "ZNQwHszjb1nE"
    },
    {
      "cell_type": "code",
      "source": [
        "x=94\n",
        "y=43\n",
        "c=(+x)\n",
        "print(c)"
      ],
      "metadata": {
        "colab": {
          "base_uri": "https://localhost:8080/"
        },
        "id": "z3BU-BHQb1un",
        "outputId": "cdcec3af-e605-4714-861b-57130d2a58f1"
      },
      "execution_count": 15,
      "outputs": [
        {
          "output_type": "stream",
          "name": "stdout",
          "text": [
            "94\n"
          ]
        }
      ],
      "id": "z3BU-BHQb1un"
    },
    {
      "cell_type": "code",
      "source": [
        "x=94\n",
        "y=43\n",
        "c=abs(x)\n",
        "print(c)"
      ],
      "metadata": {
        "colab": {
          "base_uri": "https://localhost:8080/"
        },
        "id": "c_k-Er1ob12A",
        "outputId": "fbf0d574-35c0-40ca-fce6-527481168f02"
      },
      "execution_count": 18,
      "outputs": [
        {
          "output_type": "stream",
          "name": "stdout",
          "text": [
            "94\n"
          ]
        }
      ],
      "id": "c_k-Er1ob12A"
    },
    {
      "cell_type": "code",
      "source": [
        "x=94\n",
        "y=43\n",
        "c=int(x)\n",
        "print(c)"
      ],
      "metadata": {
        "colab": {
          "base_uri": "https://localhost:8080/"
        },
        "outputId": "bcc64239-774f-4b00-b8b5-fee91f0b0aba",
        "id": "17HKz98HchR9"
      },
      "execution_count": 19,
      "outputs": [
        {
          "output_type": "stream",
          "name": "stdout",
          "text": [
            "94\n"
          ]
        }
      ],
      "id": "17HKz98HchR9"
    },
    {
      "cell_type": "code",
      "source": [
        "x=94\n",
        "y=43\n",
        "c=float(x)\n",
        "print(c)"
      ],
      "metadata": {
        "colab": {
          "base_uri": "https://localhost:8080/"
        },
        "outputId": "72bd5c1b-fff0-4f57-be08-a02527a8237f",
        "id": "iHBpWfMmciwm"
      },
      "execution_count": 20,
      "outputs": [
        {
          "output_type": "stream",
          "name": "stdout",
          "text": [
            "94.0\n"
          ]
        }
      ],
      "id": "iHBpWfMmciwm"
    },
    {
      "cell_type": "code",
      "source": [
        "x=94\n",
        "y=43\n",
        "c=(pow(x, y))\n",
        "print(c)"
      ],
      "metadata": {
        "colab": {
          "base_uri": "https://localhost:8080/"
        },
        "outputId": "17f6564f-abf4-4999-cfdd-3a38aa7c0b65",
        "id": "0wEhBp0mci7C"
      },
      "execution_count": 21,
      "outputs": [
        {
          "output_type": "stream",
          "name": "stdout",
          "text": [
            "6990330424163123434035179852100112403036474044734052048030263039361340053023971344384\n"
          ]
        }
      ],
      "id": "0wEhBp0mci7C"
    },
    {
      "cell_type": "code",
      "source": [
        "x=94\n",
        "y=43\n",
        "c=x**y\n",
        "print(c)"
      ],
      "metadata": {
        "colab": {
          "base_uri": "https://localhost:8080/"
        },
        "outputId": "036633c4-5733-40a1-ffb3-aa6042396123",
        "id": "SpqD7yPlcsQ6"
      },
      "execution_count": 22,
      "outputs": [
        {
          "output_type": "stream",
          "name": "stdout",
          "text": [
            "6990330424163123434035179852100112403036474044734052048030263039361340053023971344384\n"
          ]
        }
      ],
      "id": "SpqD7yPlcsQ6"
    },
    {
      "cell_type": "markdown",
      "id": "6e2609dc",
      "metadata": {
        "id": "6e2609dc",
        "pycharm": {
          "name": "#%% md\n"
        }
      },
      "source": [
        "## Строки\n",
        "\n",
        "Преобразовать элемент в строку можно с помощью функции `str`"
      ]
    },
    {
      "cell_type": "code",
      "execution_count": null,
      "id": "04d7323b",
      "metadata": {
        "colab": {
          "base_uri": "https://localhost:8080/"
        },
        "id": "04d7323b",
        "outputId": "a537b389-dfba-4cb2-f7fe-8909fe5d0e9a",
        "pycharm": {
          "name": "#%%\n"
        }
      },
      "outputs": [
        {
          "name": "stdout",
          "output_type": "stream",
          "text": [
            "Hello\n",
            "Hello\n",
            "True\n",
            "<class 'str'>\n"
          ]
        }
      ],
      "source": [
        "print('Hello')\n",
        "print(\"Hello\")\n",
        "print(\"Hello\" == 'Hello')\n",
        "print(type('Hello'))"
      ]
    },
    {
      "cell_type": "code",
      "execution_count": 24,
      "id": "287750d3",
      "metadata": {
        "colab": {
          "base_uri": "https://localhost:8080/"
        },
        "id": "287750d3",
        "outputId": "04340e1e-cc3a-4fd7-83fa-577d8ff93bc7",
        "pycharm": {
          "name": "#%%\n"
        }
      },
      "outputs": [
        {
          "output_type": "stream",
          "name": "stdout",
          "text": [
            "\n"
          ]
        }
      ],
      "source": [
        "# строка может содержать бесконечное количество символов\n",
        "\n",
        "print('')"
      ]
    },
    {
      "cell_type": "code",
      "execution_count": null,
      "id": "2018c733",
      "metadata": {
        "colab": {
          "base_uri": "https://localhost:8080/",
          "height": 130
        },
        "id": "2018c733",
        "outputId": "bd3ce26f-a80e-44fc-8e2a-6dec0e28fd25",
        "pycharm": {
          "name": "#%%\n"
        }
      },
      "outputs": [
        {
          "ename": "SyntaxError",
          "evalue": "invalid syntax (1942883180.py, line 1)",
          "output_type": "error",
          "traceback": [
            "\u001b[1;36m  File \u001b[1;32m\"C:\\Users\\user\\AppData\\Local\\Temp\\ipykernel_4764\\1942883180.py\"\u001b[1;36m, line \u001b[1;32m1\u001b[0m\n\u001b[1;33m    print('Masha's apple')\u001b[0m\n\u001b[1;37m                 ^\u001b[0m\n\u001b[1;31mSyntaxError\u001b[0m\u001b[1;31m:\u001b[0m invalid syntax\n"
          ]
        }
      ],
      "source": [
        "print('Masha's apple')"
      ]
    },
    {
      "cell_type": "code",
      "execution_count": null,
      "id": "eb2fd72c",
      "metadata": {
        "colab": {
          "base_uri": "https://localhost:8080/"
        },
        "id": "eb2fd72c",
        "outputId": "a10fc26d-2d34-43af-a790-710d59c66dcb",
        "pycharm": {
          "name": "#%%\n"
        }
      },
      "outputs": [
        {
          "name": "stdout",
          "output_type": "stream",
          "text": [
            "Masha's apple\n",
            "Masha's apple\n"
          ]
        }
      ],
      "source": [
        "print(\"Masha's apple\")\n",
        "print('Masha\\'s apple')"
      ]
    },
    {
      "cell_type": "markdown",
      "id": "88349256",
      "metadata": {
        "id": "88349256",
        "pycharm": {
          "name": "#%% md\n"
        }
      },
      "source": [
        "<table class=\"table table-hover\">\n",
        "<thead>\n",
        "<tr>\n",
        "<th>Символы<br>Экранирования</th>\n",
        "<th>Usual Interpretation of<br>Character(s) After Backslash</th>\n",
        "<th>“Escaped” Interpretation</th>\n",
        "</tr>\n",
        "</thead>\n",
        "<tbody>\n",
        "<tr>\n",
        "<td><code>\\'</code></td>\n",
        "<td>Terminates string with single quote opening delimiter</td>\n",
        "<td>Literal single quote (<code>'</code>) character</td>\n",
        "</tr>\n",
        "<tr>\n",
        "<td><code>\\\"</code></td>\n",
        "<td>Terminates string with double quote opening delimiter</td>\n",
        "<td>Literal double quote (<code>\"</code>) character</td>\n",
        "</tr>\n",
        "<tr>\n",
        "<td><code>\\&lt;newline&gt;</code></td>\n",
        "<td>Terminates input line</td>\n",
        "<td><a href=\"https://stackoverflow.com/questions/48693600/what-does-the-newline-escape-sequence-mean-in-python\">Newline is ignored</a></td>\n",
        "</tr>\n",
        "<tr>\n",
        "<td><code>\\\\</code></td>\n",
        "<td>Introduces escape sequence</td>\n",
        "<td>Literal backslash (<code>\\</code>) character</td>\n",
        "</tr>\n",
        "</tbody>\n",
        "</table>"
      ]
    },
    {
      "cell_type": "code",
      "execution_count": null,
      "id": "8be4db3b",
      "metadata": {
        "colab": {
          "base_uri": "https://localhost:8080/"
        },
        "id": "8be4db3b",
        "outputId": "cbb11f6e-3bad-42e1-93a2-d0d4e6d1f45f",
        "pycharm": {
          "name": "#%%\n"
        }
      },
      "outputs": [
        {
          "name": "stdout",
          "output_type": "stream",
          "text": [
            "1---2---31 2 3\n"
          ]
        }
      ],
      "source": [
        "print(1, 2, 3, end='', sep=\"---\")\n",
        "print(1, 2, 3)"
      ]
    },
    {
      "cell_type": "markdown",
      "id": "71548a45",
      "metadata": {
        "id": "71548a45",
        "pycharm": {
          "name": "#%% md\n"
        }
      },
      "source": [
        "## Логический тип данных\n",
        "\n",
        "Важно отметить, что у всех объектов в питоне есть логическое значение. Т.е. он может быть протестирован на истинность. По умолчанию все объекты являются истинными (True), если только не определены специальные методы.\n",
        "\n",
        "```\n",
        ">>>bool(10)\n",
        "True\n",
        ">>>bool(-10)\n",
        "True\n",
        ">>>bool('Hello')\n",
        "True\n",
        ">>>bool('')\n",
        "False\n",
        "```\n"
      ]
    },
    {
      "cell_type": "code",
      "execution_count": 27,
      "id": "c10d7d7c",
      "metadata": {
        "pycharm": {
          "name": "#%%\n"
        },
        "id": "c10d7d7c"
      },
      "outputs": [],
      "source": [
        "None"
      ]
    },
    {
      "cell_type": "code",
      "execution_count": null,
      "id": "85234b2c",
      "metadata": {
        "colab": {
          "base_uri": "https://localhost:8080/"
        },
        "id": "85234b2c",
        "outputId": "6d111917-4272-48f3-da50-d99cc7f781c8",
        "pycharm": {
          "name": "#%%\n"
        }
      },
      "outputs": [
        {
          "data": {
            "text/plain": [
              "False"
            ]
          },
          "execution_count": 123,
          "metadata": {},
          "output_type": "execute_result"
        }
      ],
      "source": [
        "bool(None)"
      ]
    },
    {
      "cell_type": "code",
      "execution_count": 28,
      "id": "49d218ef",
      "metadata": {
        "colab": {
          "base_uri": "https://localhost:8080/"
        },
        "id": "49d218ef",
        "outputId": "41fa3fac-47b7-4d8e-b97e-06c44a1c21bf",
        "pycharm": {
          "name": "#%%\n"
        }
      },
      "outputs": [
        {
          "output_type": "execute_result",
          "data": {
            "text/plain": [
              "False"
            ]
          },
          "metadata": {},
          "execution_count": 28
        }
      ],
      "source": [
        "True\n",
        "False"
      ]
    },
    {
      "cell_type": "code",
      "execution_count": null,
      "id": "38a05557",
      "metadata": {
        "colab": {
          "base_uri": "https://localhost:8080/"
        },
        "id": "38a05557",
        "outputId": "84da7aed-3c04-4c4d-d438-1dc0d7a9fcd9",
        "pycharm": {
          "name": "#%%\n"
        }
      },
      "outputs": [
        {
          "name": "stdout",
          "output_type": "stream",
          "text": [
            "False\n",
            "False\n"
          ]
        }
      ],
      "source": [
        "print(bool(0))\n",
        "print(bool(''))"
      ]
    },
    {
      "cell_type": "markdown",
      "id": "807151ab",
      "metadata": {
        "id": "807151ab",
        "pycharm": {
          "name": "#%% md\n"
        }
      },
      "source": [
        "Булевы операторы\n",
        "\n",
        "<table class=\"docutils align-default\">\n",
        "<colgroup>\n",
        "<col style=\"width: 25%\">\n",
        "<col style=\"width: 62%\">\n",
        "<col style=\"width: 13%\">\n",
        "</colgroup>\n",
        "<thead>\n",
        "<tr class=\"row-odd\"><th class=\"head\"><p>Operation</p></th>\n",
        "<th class=\"head\"><p>Result</p></th>\n",
        "<th class=\"head\"><p>Notes</p></th>\n",
        "</tr>\n",
        "</thead>\n",
        "<tbody>\n",
        "<tr class=\"row-even\"><td><p><code class=\"docutils literal notranslate\"><span class=\"pre\">x</span> <span class=\"pre\">or</span> <span class=\"pre\">y</span></code></p></td>\n",
        "<td><p>if <em>x</em> is false, then <em>y</em>, else\n",
        "<em>x</em></p></td>\n",
        "<td><p>(1)</p></td>\n",
        "</tr>\n",
        "<tr class=\"row-odd\"><td><p><code class=\"docutils literal notranslate\"><span class=\"pre\">x</span> <span class=\"pre\">and</span> <span class=\"pre\">y</span></code></p></td>\n",
        "<td><p>if <em>x</em> is false, then <em>x</em>, else\n",
        "<em>y</em></p></td>\n",
        "<td><p>(2)</p></td>\n",
        "</tr>\n",
        "<tr class=\"row-even\"><td><p><code class=\"docutils literal notranslate\"><span class=\"pre\">not</span> <span class=\"pre\">x</span></code></p></td>\n",
        "<td><p>if <em>x</em> is false, then <code class=\"docutils literal notranslate\"><span class=\"pre\">True</span></code>,\n",
        "else <code class=\"docutils literal notranslate\"><span class=\"pre\">False</span></code></p></td>\n",
        "<td><p>(3)</p></td>\n",
        "</tr>\n",
        "</tbody>\n",
        "</table>"
      ]
    },
    {
      "cell_type": "code",
      "execution_count": null,
      "id": "04f00169",
      "metadata": {
        "pycharm": {
          "name": "#%%\n"
        },
        "id": "04f00169",
        "outputId": "77afc0bc-e1e9-4b73-b724-ffd7deb2724d"
      },
      "outputs": [
        {
          "name": "stdout",
          "output_type": "stream",
          "text": [
            "0\n",
            "1\n",
            "True\n",
            "True\n"
          ]
        }
      ],
      "source": [
        "print(int(False or False))\n",
        "print(int(False or True))\n",
        "print(True or False)\n",
        "print(True or True)"
      ]
    },
    {
      "cell_type": "code",
      "execution_count": null,
      "id": "261617d3",
      "metadata": {
        "pycharm": {
          "name": "#%%\n"
        },
        "id": "261617d3",
        "outputId": "417c6657-a2ce-4dc0-8c69-cef8da136e29"
      },
      "outputs": [
        {
          "data": {
            "text/plain": [
              "(True, False)"
            ]
          },
          "execution_count": 131,
          "metadata": {},
          "output_type": "execute_result"
        }
      ],
      "source": [
        "bool(10), bool(None)"
      ]
    },
    {
      "cell_type": "code",
      "execution_count": null,
      "id": "5efdeb20",
      "metadata": {
        "pycharm": {
          "name": "#%%\n"
        },
        "id": "5efdeb20",
        "outputId": "8fd04c4c-864c-4751-b1a9-61c9b99eec33"
      },
      "outputs": [
        {
          "data": {
            "text/plain": [
              "10"
            ]
          },
          "execution_count": 133,
          "metadata": {},
          "output_type": "execute_result"
        }
      ],
      "source": [
        "10 or None"
      ]
    },
    {
      "cell_type": "code",
      "execution_count": null,
      "id": "bb34b006",
      "metadata": {
        "colab": {
          "base_uri": "https://localhost:8080/",
          "height": 35
        },
        "id": "bb34b006",
        "outputId": "8159ce9a-cad4-45db-949f-5fb833516e28",
        "pycharm": {
          "name": "#%%\n"
        }
      },
      "outputs": [
        {
          "data": {
            "text/plain": [
              "'asc'"
            ]
          },
          "execution_count": 134,
          "metadata": {},
          "output_type": "execute_result"
        }
      ],
      "source": [
        "'asd' and 'asc'"
      ]
    },
    {
      "cell_type": "markdown",
      "id": "17816b31",
      "metadata": {
        "id": "17816b31",
        "pycharm": {
          "name": "#%% md\n"
        }
      },
      "source": [
        "Операторы сравнения\n",
        "\n",
        "<table class=\"docutils align-default\">\n",
        "<colgroup>\n",
        "<col style=\"width: 32%\">\n",
        "<col style=\"width: 68%\">\n",
        "</colgroup>\n",
        "<thead>\n",
        "<tr class=\"row-odd\"><th class=\"head\"><p>Operation</p></th>\n",
        "<th class=\"head\"><p>Meaning</p></th>\n",
        "</tr>\n",
        "</thead>\n",
        "<tbody>\n",
        "<tr class=\"row-even\"><td><p><code class=\"docutils literal notranslate\"><span class=\"pre\">&lt;</span></code></p></td>\n",
        "<td><p>strictly less than</p></td>\n",
        "</tr>\n",
        "<tr class=\"row-odd\"><td><p><code class=\"docutils literal notranslate\"><span class=\"pre\">&lt;=</span></code></p></td>\n",
        "<td><p>less than or equal</p></td>\n",
        "</tr>\n",
        "<tr class=\"row-even\"><td><p><code class=\"docutils literal notranslate\"><span class=\"pre\">&gt;</span></code></p></td>\n",
        "<td><p>strictly greater than</p></td>\n",
        "</tr>\n",
        "<tr class=\"row-odd\"><td><p><code class=\"docutils literal notranslate\"><span class=\"pre\">&gt;=</span></code></p></td>\n",
        "<td><p>greater than or equal</p></td>\n",
        "</tr>\n",
        "<tr class=\"row-even\"><td><p><code class=\"docutils literal notranslate\"><span class=\"pre\">==</span></code></p></td>\n",
        "<td><p>equal</p></td>\n",
        "</tr>\n",
        "<tr class=\"row-odd\"><td><p><code class=\"docutils literal notranslate\"><span class=\"pre\">!=</span></code></p></td>\n",
        "<td><p>not equal</p></td>\n",
        "</tr>\n",
        "<tr class=\"row-even\"><td><p><code class=\"docutils literal notranslate\"><span class=\"pre\">is</span></code></p></td>\n",
        "<td><p>object identity</p></td>\n",
        "</tr>\n",
        "<tr class=\"row-odd\"><td><p><code class=\"docutils literal notranslate\"><span class=\"pre\">is</span> <span class=\"pre\">not</span></code></p></td>\n",
        "<td><p>negated object identity</p></td>\n",
        "</tr>\n",
        "</tbody>\n",
        "</table>"
      ]
    },
    {
      "cell_type": "code",
      "execution_count": null,
      "id": "ad54c3c1",
      "metadata": {
        "pycharm": {
          "name": "#%%\n"
        },
        "id": "ad54c3c1",
        "outputId": "6d8ec8c2-8a7e-429d-aa38-d7b6f611895a"
      },
      "outputs": [
        {
          "data": {
            "text/plain": [
              "True"
            ]
          },
          "execution_count": 135,
          "metadata": {},
          "output_type": "execute_result"
        }
      ],
      "source": [
        "10 < 15"
      ]
    },
    {
      "cell_type": "code",
      "execution_count": 29,
      "id": "22cc287c",
      "metadata": {
        "colab": {
          "base_uri": "https://localhost:8080/"
        },
        "id": "22cc287c",
        "outputId": "9718f728-549b-4334-dff4-3db5714375d6",
        "pycharm": {
          "name": "#%%\n"
        }
      },
      "outputs": [
        {
          "output_type": "execute_result",
          "data": {
            "text/plain": [
              "True"
            ]
          },
          "metadata": {},
          "execution_count": 29
        }
      ],
      "source": [
        "1 == 1"
      ]
    },
    {
      "cell_type": "code",
      "execution_count": 41,
      "id": "a4f35762",
      "metadata": {
        "colab": {
          "base_uri": "https://localhost:8080/"
        },
        "id": "a4f35762",
        "outputId": "d80c067e-f8a9-424f-ff24-8536b6f2d399",
        "pycharm": {
          "name": "#%%\n"
        }
      },
      "outputs": [
        {
          "output_type": "stream",
          "name": "stderr",
          "text": [
            "<>:1: SyntaxWarning: \"is not\" with a literal. Did you mean \"!=\"?\n",
            "<>:1: SyntaxWarning: \"is not\" with a literal. Did you mean \"!=\"?\n",
            "<ipython-input-41-f3aa311ec86b>:1: SyntaxWarning: \"is not\" with a literal. Did you mean \"!=\"?\n",
            "  1 is not 'abc'\n"
          ]
        },
        {
          "output_type": "execute_result",
          "data": {
            "text/plain": [
              "True"
            ]
          },
          "metadata": {},
          "execution_count": 41
        }
      ],
      "source": [
        "1 is not 'abc'"
      ]
    },
    {
      "cell_type": "code",
      "execution_count": null,
      "id": "9c2c2371",
      "metadata": {
        "id": "9c2c2371",
        "pycharm": {
          "name": "#%%\n"
        }
      },
      "outputs": [],
      "source": [
        "1 or 1"
      ]
    },
    {
      "cell_type": "markdown",
      "id": "3efe4a65",
      "metadata": {
        "id": "3efe4a65",
        "pycharm": {
          "name": "#%% md\n"
        }
      },
      "source": [
        "# Задание 1\n",
        "\n",
        "Создайте две переменные var_a и var_b. var_a присвойте числовое значение равное длю своего рождения, var_b присвойте значение равное номерну месяца своего значения.\n",
        "Для переменных var_a и var_b выполните все арифметические и логические операции приведенные выше.\n",
        "\n",
        "Пример:\n",
        "\n",
        "```\n",
        "\n",
        "a = 7\n",
        "b = 2\n",
        "\n",
        "print ('Sum: ', a + b)  \n",
        "print ('Subtraction: ', a - b)   \n",
        "print ('Multiplication: ', a * b)  \n",
        "print ('Division: ', a / b)\n",
        "print ('Floor Division: ', a // b)\n",
        "print ('Modulo: ', a % b)  \n",
        "print ('Power: ', a ** b)\n",
        "\n",
        "print((a > 2) and (b >= 6))    # True\n",
        "\n",
        "x = 5\n",
        "y = 8\n",
        "\n",
        "print(\"x == y:\", x == y)\n",
        "print(\"x != y:\", x != y)\n",
        "print(\"x < y:\", x < y)\n",
        "print(\"x > y:\", x > y)\n",
        "print(\"x <= y:\", x <= y)\n",
        "print(\"x >= y:\", x >= y)\n",
        "```"
      ]
    },
    {
      "cell_type": "code",
      "execution_count": 40,
      "id": "239e8c83",
      "metadata": {
        "colab": {
          "base_uri": "https://localhost:8080/"
        },
        "id": "239e8c83",
        "outputId": "8fef2536-11d5-4d5e-fdba-9eb515b223db"
      },
      "outputs": [
        {
          "output_type": "stream",
          "name": "stdout",
          "text": [
            "Sum: 13\n",
            "Subtraction: 7\n",
            "Multiplication: 30\n",
            "Division: 3.3333333333333335\n",
            "Floor Division: 3\n",
            "Modulo: 1\n",
            "Power: 1000\n",
            "True\n",
            "var_a == var_b : False\n",
            "var_a != var_b : True\n",
            "var_a < var_b : False\n",
            "var_a > var_b : True\n",
            "var_a <= var_b : False\n",
            "var_a >= var_b : True\n"
          ]
        }
      ],
      "source": [
        "var_a = 10\n",
        "var_b = 3\n",
        "\n",
        "print (\"Sum:\", var_a + var_b)\n",
        "print ('Subtraction:', var_a - var_b)\n",
        "print ('Multiplication:', var_a * var_b)\n",
        "print ('Division:', var_a/var_b)\n",
        "print ('Floor Division:', var_a // var_b)\n",
        "print ('Modulo:', var_a % var_b)\n",
        "print ('Power:', var_a**var_b)\n",
        "\n",
        "print((var_a>=10) and (var_b <4))\n",
        "\n",
        "print ('var_a == var_b :', var_a == var_b)\n",
        "print ('var_a != var_b :', var_a != var_b)\n",
        "print ('var_a < var_b :', var_a<var_b)\n",
        "print ('var_a > var_b :', var_a > var_b)\n",
        "print('var_a <= var_b :', var_a<=var_b)\n",
        "print('var_a >= var_b :', var_a >= var_b)\n"
      ]
    },
    {
      "cell_type": "markdown",
      "id": "a3ad7361",
      "metadata": {
        "id": "a3ad7361"
      },
      "source": [
        "# Задание 2\n",
        "\n",
        "Присвойте переменной var_c значение 32.98.\n",
        "\n",
        "Преобразуйте переменную к типам int, float, string и выведите результат на экран. Объясните что получилось в результате преобразования.\n"
      ]
    },
    {
      "cell_type": "code",
      "execution_count": 19,
      "id": "9dd12dae",
      "metadata": {
        "colab": {
          "base_uri": "https://localhost:8080/"
        },
        "id": "9dd12dae",
        "outputId": "8e87e36c-a1cd-49f0-c7d7-56b904195c3f"
      },
      "outputs": [
        {
          "output_type": "stream",
          "name": "stdout",
          "text": [
            "32 = <class 'int'>\n",
            "32.98 = <class 'float'>\n",
            "32.98 = <class 'str'>\n"
          ]
        }
      ],
      "source": [
        "var_c = 32.98\n",
        "var_c = int(var_c)\n",
        "print (var_c, '=', type(var_c))\n",
        "var_c = 32.98\n",
        "var_c = float(var_c)\n",
        "print (var_c, '=', type(var_c))\n",
        "var_c = 32.98\n",
        "var_c = str(var_c)\n",
        "print (var_c, '=', type(var_c))"
      ]
    },
    {
      "cell_type": "markdown",
      "id": "79fd6eb3",
      "metadata": {
        "id": "79fd6eb3"
      },
      "source": [
        "# Задание 3\n",
        "\n",
        "1. Дано целое число A. Проверить истинность высказывания: «Число A является положительным».\n",
        "1. Дано целое число A. Проверить истинность высказывания: «Число A является нечетным».\n",
        "3. Дано целое число A. Проверить истинность высказывания: «Число A является четным».\n",
        "4. Даны два целых числа: A, B. Проверить истинность высказывания: «Справедливы неравенства A > 2 и B ≤ 3».\n",
        "5. Даны два целых числа: A, B. Проверить истинность высказывания: «Справедливы неравенства A ≥ 0 или B < –2».\n",
        "6. Даны три целых числа: A, B, C. Проверить истинность высказыва-ния: «Справедливо двойное неравенство A < B < C».\n",
        "7. Даны три целых числа: A, B, C. Проверить истинность высказыва-ния: «Число B находится между числами A и C».\n",
        "\n",
        "Пример решения п. 1\n",
        "\n",
        "```\n",
        "A=-3\n",
        "print(\"Число\",A,\"является положительным\", A>0)\n",
        "```"
      ]
    },
    {
      "cell_type": "code",
      "execution_count": 42,
      "id": "35a8c53e",
      "metadata": {
        "colab": {
          "base_uri": "https://localhost:8080/"
        },
        "id": "35a8c53e",
        "outputId": "bae1b078-d937-4964-c614-9668fefca143"
      },
      "outputs": [
        {
          "output_type": "stream",
          "name": "stdout",
          "text": [
            "Число a: -5 , число b: 52 , число c: 100\n",
            "1) Число -5 является положительным:  False\n",
            "2) Число -5 является нечетным:  True\n",
            "3) Число -5 является четным:  False\n",
            "4) Справедливо неравенства число -5 > 2 и 52 ≤ 3:  False\n",
            "5) Справедливо неравенства число -5 ≥ 0 или 52 < –2: False\n",
            "6) Справедливо двойное неравенство -5 < 52 < 100 : True\n",
            "6) Число 52 находится между числами -5 и 100 : True\n"
          ]
        }
      ],
      "source": [
        "a=-5\n",
        "b=52\n",
        "c=100\n",
        "print ('Число a:', a, \", число b:\", b, \", число c:\", c)\n",
        "print ('1) Число', a, 'является положительным: ', a>0)\n",
        "print ('2) Число', a, 'является нечетным: ', a%2 != 0)\n",
        "print ('3) Число', a, 'является четным: ', a%2 == 0)\n",
        "print ('4) Справедливо неравенства число', a, '> 2 и', b, '≤ 3: ', ((a>2) and (b<=3)))\n",
        "print ('5) Справедливо неравенства число', a, '≥ 0 или', b, '< –2:', ((a>=0) or (b<-2)))\n",
        "print ('6) Справедливо двойное неравенство', a, '<', b, '<', c, ':', ((a<b) and (b<c)))\n",
        "print ('6) Число', b, 'находится между числами', a, 'и', c,':', (a<b) and (b<c))"
      ]
    },
    {
      "cell_type": "code",
      "source": [],
      "metadata": {
        "id": "4mVe9lxoRVuy"
      },
      "id": "4mVe9lxoRVuy",
      "execution_count": null,
      "outputs": []
    }
  ],
  "metadata": {
    "kernelspec": {
      "display_name": "Python 3 (ipykernel)",
      "language": "python",
      "name": "python3"
    },
    "language_info": {
      "codemirror_mode": {
        "name": "ipython",
        "version": 3
      },
      "file_extension": ".py",
      "mimetype": "text/x-python",
      "name": "python",
      "nbconvert_exporter": "python",
      "pygments_lexer": "ipython3",
      "version": "3.9.13"
    },
    "colab": {
      "provenance": []
    }
  },
  "nbformat": 4,
  "nbformat_minor": 5
}