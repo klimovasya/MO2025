{
  "cells": [
    {
      "cell_type": "markdown",
      "id": "03e811ea",
      "metadata": {
        "id": "03e811ea"
      },
      "source": [
        "# 07 Словарь (Dictionaries)\n",
        "\n",
        "Если раньше мы говорили о последовательностях (*sequences*) в Python, то теперь давайте поговорим о маппингах (*mappings*) в Python. Если Вы знакомы с другими языками программирования, то словари можно представить себе как хэш-таблицы.\n",
        "\n",
        "Эта лекция служит введением в словари, и состоит из следующих тем:\n",
        "\n",
        "    1) Создание словаря\n",
        "    2) Доступ к объектам в словаре\n",
        "    3) Вложенные словари\n",
        "    4) Основные методы для словарей\n",
        "\n",
        "Что такое маппинги? Маппинги - это набор объектов, которые можно получить по ключу (*key*). Это отличается от последовательностей, где объекты хранятся в определенном порядке относительно друг друга. Это важное отличие, потому что маппинги не имеют порядка элементов. В маппингах элементы определены с помощью ключей.\n",
        "\n",
        "Словарь в Python состоит из ключа и связанного с ним значения. Значение может быть практически любым объектом Python.\n",
        "\n",
        "\n",
        "## Создание словаря\n",
        "Давайте посмотрим, как можно создавать словари - так мы лучше поймём, как они работают!"
      ]
    },
    {
      "cell_type": "code",
      "execution_count": 2,
      "id": "bb41161f",
      "metadata": {
        "collapsed": true,
        "id": "bb41161f"
      },
      "outputs": [],
      "source": [
        "# Словари создаются с помощью {} и : , чтобы указать ключи и значения\n",
        "my_dict = {'key1':'value1','key2':'value2'}"
      ]
    },
    {
      "cell_type": "code",
      "execution_count": 3,
      "id": "83c411da",
      "metadata": {
        "colab": {
          "base_uri": "https://localhost:8080/",
          "height": 35
        },
        "id": "83c411da",
        "outputId": "653c0436-0617-472c-dc99-9ee32891513c"
      },
      "outputs": [
        {
          "output_type": "execute_result",
          "data": {
            "text/plain": [
              "'value2'"
            ],
            "application/vnd.google.colaboratory.intrinsic+json": {
              "type": "string"
            }
          },
          "metadata": {},
          "execution_count": 3
        }
      ],
      "source": [
        "# Получаем значение по его ключу\n",
        "my_dict['key2']"
      ]
    },
    {
      "cell_type": "markdown",
      "id": "2fba962f",
      "metadata": {
        "id": "2fba962f"
      },
      "source": [
        "Словари очень гибки в отношении того, какие типы данных они могут хранить. Например:"
      ]
    },
    {
      "cell_type": "code",
      "execution_count": 11,
      "id": "b04d925e",
      "metadata": {
        "collapsed": true,
        "id": "b04d925e"
      },
      "outputs": [],
      "source": [
        "my_dict = {'key1':123,'key2':[12,23,33],'key3':['item0','item1','item2']}"
      ]
    },
    {
      "cell_type": "code",
      "execution_count": null,
      "id": "e6dca033",
      "metadata": {
        "id": "e6dca033",
        "outputId": "0d995287-c2a8-44fa-9350-6aee0c86b786"
      },
      "outputs": [
        {
          "data": {
            "text/plain": [
              "['item0', 'item1', 'item2']"
            ]
          },
          "execution_count": 4,
          "metadata": {},
          "output_type": "execute_result"
        }
      ],
      "source": [
        "# Возьмём из словаря элементы items\n",
        "my_dict['key3']"
      ]
    },
    {
      "cell_type": "code",
      "execution_count": null,
      "id": "e7af6103",
      "metadata": {
        "id": "e7af6103",
        "outputId": "7b07a7ca-af0f-4c1e-de60-4980ecca5167"
      },
      "outputs": [
        {
          "data": {
            "text/plain": [
              "'item0'"
            ]
          },
          "execution_count": 5,
          "metadata": {},
          "output_type": "execute_result"
        }
      ],
      "source": [
        "# Здесь можно использовать индекс для этого значения\n",
        "my_dict['key3'][0]"
      ]
    },
    {
      "cell_type": "code",
      "execution_count": null,
      "id": "a600ae1a",
      "metadata": {
        "id": "a600ae1a",
        "outputId": "69afe0cc-3be6-432f-8739-33e5435a3fff"
      },
      "outputs": [
        {
          "data": {
            "text/plain": [
              "'ITEM0'"
            ]
          },
          "execution_count": 6,
          "metadata": {},
          "output_type": "execute_result"
        }
      ],
      "source": [
        "# И далее мы даже можем использовать методы для этого значения\n",
        "my_dict['key3'][0].upper()"
      ]
    },
    {
      "cell_type": "markdown",
      "id": "ef58627b",
      "metadata": {
        "id": "ef58627b"
      },
      "source": [
        "Также мы можем менять значения ключа. Например:"
      ]
    },
    {
      "cell_type": "code",
      "execution_count": 12,
      "id": "956e9545",
      "metadata": {
        "colab": {
          "base_uri": "https://localhost:8080/"
        },
        "id": "956e9545",
        "outputId": "2e33b7d4-165e-4f81-a01e-b4d9be4962eb"
      },
      "outputs": [
        {
          "output_type": "execute_result",
          "data": {
            "text/plain": [
              "123"
            ]
          },
          "metadata": {},
          "execution_count": 12
        }
      ],
      "source": [
        "my_dict['key1']"
      ]
    },
    {
      "cell_type": "code",
      "execution_count": 13,
      "id": "55d243f5",
      "metadata": {
        "collapsed": true,
        "id": "55d243f5"
      },
      "outputs": [],
      "source": [
        "# Вычитаем 123 из значения\n",
        "my_dict['key1'] = my_dict['key1'] - 123"
      ]
    },
    {
      "cell_type": "code",
      "execution_count": 14,
      "id": "638d05f0",
      "metadata": {
        "colab": {
          "base_uri": "https://localhost:8080/"
        },
        "id": "638d05f0",
        "outputId": "c63baf14-59ca-44d7-c960-3004692b47b6"
      },
      "outputs": [
        {
          "output_type": "execute_result",
          "data": {
            "text/plain": [
              "0"
            ]
          },
          "metadata": {},
          "execution_count": 14
        }
      ],
      "source": [
        "# Провека\n",
        "my_dict['key1']"
      ]
    },
    {
      "cell_type": "markdown",
      "id": "2c1135c9",
      "metadata": {
        "id": "2c1135c9"
      },
      "source": [
        "Небольшое замечание: Python содержит встроенные методы для сложения (прибавления), вычитания, умножения и деления. В примере выше можно было использовать += или -=. Например:"
      ]
    },
    {
      "cell_type": "code",
      "execution_count": 15,
      "id": "4e219c58",
      "metadata": {
        "colab": {
          "base_uri": "https://localhost:8080/"
        },
        "id": "4e219c58",
        "outputId": "9a736078-8e7a-4531-fdb9-8b0f51f012c7"
      },
      "outputs": [
        {
          "output_type": "execute_result",
          "data": {
            "text/plain": [
              "-123"
            ]
          },
          "metadata": {},
          "execution_count": 15
        }
      ],
      "source": [
        "# Присвоить объект равным его текущему значению минус 123\n",
        "my_dict['key1'] -= 123\n",
        "my_dict['key1']"
      ]
    },
    {
      "cell_type": "markdown",
      "id": "238ecec7",
      "metadata": {
        "id": "238ecec7"
      },
      "source": [
        "Мы также можем создавать ключи, присваивая значения. Например, мы можем создать пустой словарь, и затем постепенно добавлять в него элементы:"
      ]
    },
    {
      "cell_type": "code",
      "execution_count": null,
      "id": "0632b469",
      "metadata": {
        "collapsed": true,
        "id": "0632b469"
      },
      "outputs": [],
      "source": [
        "# Создаем новый словарь\n",
        "d = {}"
      ]
    },
    {
      "cell_type": "code",
      "execution_count": null,
      "id": "66b2dc37",
      "metadata": {
        "collapsed": true,
        "id": "66b2dc37"
      },
      "outputs": [],
      "source": [
        "# Создаем новый ключ, присваивая ему значение\n",
        "d['animal'] = 'Dog'"
      ]
    },
    {
      "cell_type": "code",
      "execution_count": null,
      "id": "968b7cab",
      "metadata": {
        "collapsed": true,
        "id": "968b7cab"
      },
      "outputs": [],
      "source": [
        "# Мы можем сделать это для любого объекта\n",
        "d['answer'] = 42"
      ]
    },
    {
      "cell_type": "code",
      "execution_count": null,
      "id": "0c0c636a",
      "metadata": {
        "id": "0c0c636a",
        "outputId": "e22bfade-2b09-4e7e-fcfb-ee8b2d38e09b"
      },
      "outputs": [
        {
          "data": {
            "text/plain": [
              "{'animal': 'Dog', 'answer': 42}"
            ]
          },
          "execution_count": 14,
          "metadata": {},
          "output_type": "execute_result"
        }
      ],
      "source": [
        "# Проверка\n",
        "d"
      ]
    },
    {
      "cell_type": "markdown",
      "id": "899e1e49",
      "metadata": {
        "id": "899e1e49"
      },
      "source": [
        "## Вложенные словари\n",
        "\n",
        "Надеюсь, что Вы уже начинаете видеть, насколько Python мощный и гибкий в плане вложенности объектов и запуска методов. Давайте рассмотрим словарь внутри словаря:"
      ]
    },
    {
      "cell_type": "code",
      "execution_count": null,
      "id": "1c06c237",
      "metadata": {
        "collapsed": true,
        "id": "1c06c237"
      },
      "outputs": [],
      "source": [
        "# Словарь внутри словаря внутри словаря\n",
        "d = {'key1':{'nestkey':{'subnestkey':'value'}}}"
      ]
    },
    {
      "cell_type": "markdown",
      "id": "6173a0ff",
      "metadata": {
        "id": "6173a0ff"
      },
      "source": [
        "Вау! Вот это вложенность словарей! Давайте посмотрим, как добраться до значения 'value':"
      ]
    },
    {
      "cell_type": "code",
      "execution_count": null,
      "id": "55f9c854",
      "metadata": {
        "id": "55f9c854",
        "outputId": "4a235e66-3f86-4a9f-83a8-85ee7c46d70d"
      },
      "outputs": [
        {
          "data": {
            "text/plain": [
              "'value'"
            ]
          },
          "execution_count": 16,
          "metadata": {},
          "output_type": "execute_result"
        }
      ],
      "source": [
        "# Последовательно указываем ключи\n",
        "d['key1']['nestkey']['subnestkey']"
      ]
    },
    {
      "cell_type": "markdown",
      "id": "32ae4843",
      "metadata": {
        "id": "32ae4843"
      },
      "source": [
        "## Некоторые методы для словарей\n",
        "\n",
        "Для словарей можно вызывать различные методы. Вот некоторые из них:"
      ]
    },
    {
      "cell_type": "code",
      "execution_count": null,
      "id": "63e0d911",
      "metadata": {
        "collapsed": true,
        "id": "63e0d911"
      },
      "outputs": [],
      "source": [
        "# Создаем обычный словарь\n",
        "d = {'key1':1,'key2':2,'key3':3}"
      ]
    },
    {
      "cell_type": "code",
      "execution_count": null,
      "id": "fa98d666",
      "metadata": {
        "id": "fa98d666",
        "outputId": "88daa4da-3a2d-4063-bffe-6c171ea8c279"
      },
      "outputs": [
        {
          "data": {
            "text/plain": [
              "dict_keys(['key1', 'key2', 'key3'])"
            ]
          },
          "execution_count": 18,
          "metadata": {},
          "output_type": "execute_result"
        }
      ],
      "source": [
        "# Метод, который возвращает список всех ключей\n",
        "d.keys()"
      ]
    },
    {
      "cell_type": "code",
      "execution_count": null,
      "id": "762ebc8d",
      "metadata": {
        "id": "762ebc8d",
        "outputId": "0034a22b-1ec4-4e37-9894-04b8b3065460"
      },
      "outputs": [
        {
          "data": {
            "text/plain": [
              "dict_values([1, 2, 3])"
            ]
          },
          "execution_count": 19,
          "metadata": {},
          "output_type": "execute_result"
        }
      ],
      "source": [
        "# Метод, возвращающий все значения\n",
        "d.values()"
      ]
    },
    {
      "cell_type": "code",
      "execution_count": null,
      "id": "8f3f1311",
      "metadata": {
        "scrolled": true,
        "id": "8f3f1311",
        "outputId": "a0505a95-bb20-4345-c3c1-920a5461dece"
      },
      "outputs": [
        {
          "data": {
            "text/plain": [
              "dict_items([('key1', 1), ('key2', 2), ('key3', 3)])"
            ]
          },
          "execution_count": 20,
          "metadata": {},
          "output_type": "execute_result"
        }
      ],
      "source": [
        "# Метод, возвращающий кортежи (tuples) для всех элементов  (мы рассмотрим кортежи tuples чуть позже)\n",
        "d.items()"
      ]
    },
    {
      "cell_type": "markdown",
      "id": "06421a3a",
      "metadata": {
        "id": "06421a3a"
      },
      "source": [
        "Теперь Вы знаете, как создавать словари. По ним ещё есть что сказать, и мы вернемся к словарям позднее в этом курсе. После этой лекции главное, что Вы должны уметь, это создавать словари и извлекать значения из них."
      ]
    },
    {
      "cell_type": "code",
      "execution_count": null,
      "id": "83681fae",
      "metadata": {
        "id": "83681fae"
      },
      "outputs": [],
      "source": []
    },
    {
      "cell_type": "markdown",
      "id": "9816ea42",
      "metadata": {
        "id": "9816ea42"
      },
      "source": [
        "## Словари (Dictionaries)"
      ]
    },
    {
      "cell_type": "markdown",
      "id": "63689704",
      "metadata": {
        "id": "63689704"
      },
      "source": [
        "Используя ключи и индексирование, прочитайте 'hello' из следующих словарей:"
      ]
    },
    {
      "cell_type": "code",
      "execution_count": 20,
      "id": "2b1a4e5c",
      "metadata": {
        "collapsed": true,
        "colab": {
          "base_uri": "https://localhost:8080/",
          "height": 35
        },
        "id": "2b1a4e5c",
        "outputId": "8556a95b-22a2-4a83-bb80-5c5ca7077d11"
      },
      "outputs": [
        {
          "output_type": "execute_result",
          "data": {
            "text/plain": [
              "'hello'"
            ],
            "application/vnd.google.colaboratory.intrinsic+json": {
              "type": "string"
            }
          },
          "metadata": {},
          "execution_count": 20
        }
      ],
      "source": [
        "d = {'simple_key':'hello'}\n",
        "# прочитайте 'hello'\n",
        "d['simple_key']\n"
      ]
    },
    {
      "cell_type": "code",
      "execution_count": 22,
      "id": "d9dd6531",
      "metadata": {
        "collapsed": true,
        "colab": {
          "base_uri": "https://localhost:8080/",
          "height": 35
        },
        "id": "d9dd6531",
        "outputId": "1d87e7a1-a0fa-4cd0-9b0b-9a76bd315cd4"
      },
      "outputs": [
        {
          "output_type": "execute_result",
          "data": {
            "text/plain": [
              "'hello'"
            ],
            "application/vnd.google.colaboratory.intrinsic+json": {
              "type": "string"
            }
          },
          "metadata": {},
          "execution_count": 22
        }
      ],
      "source": [
        "d = {'k1':{'k2':'hello'}}\n",
        "# прочитайте 'hello'\n",
        "d['k1']['k2']"
      ]
    },
    {
      "cell_type": "code",
      "execution_count": 36,
      "id": "f670b274",
      "metadata": {
        "collapsed": true,
        "colab": {
          "base_uri": "https://localhost:8080/"
        },
        "id": "f670b274",
        "outputId": "18ab1904-ccfe-4c57-a743-8d34e4eba8a9"
      },
      "outputs": [
        {
          "output_type": "stream",
          "name": "stdout",
          "text": [
            "hello\n"
          ]
        }
      ],
      "source": [
        "# Здесь немного сложнее\n",
        "d = {'k1':[{'nest_key':['this is deep',['hello']]}]}\n",
        "# прочитайте hello\n",
        "x=d['k1'][0]['nest_key'][1][0]\n",
        "print (x)"
      ]
    },
    {
      "cell_type": "code",
      "execution_count": 44,
      "id": "84521255",
      "metadata": {
        "collapsed": true,
        "colab": {
          "base_uri": "https://localhost:8080/"
        },
        "id": "84521255",
        "outputId": "c51ddfbb-02fd-4c2a-ee49-f69fd474f49c"
      },
      "outputs": [
        {
          "output_type": "stream",
          "name": "stdout",
          "text": [
            "hello\n"
          ]
        }
      ],
      "source": [
        "# Это будет сложно и нудно!\n",
        "d = {'k1':[1,2,{'k2':  ['this is tricky',{'tough':[1,2,['hello']]}]  }]}\n",
        "x=d['k1'][2]['k2'][1]['tough'][2][0]\n",
        "print (x)"
      ]
    },
    {
      "cell_type": "markdown",
      "id": "36299e7a",
      "metadata": {
        "id": "36299e7a"
      },
      "source": [
        "Можно ли отсортировать словарь? Почему (или почему нет)?<br><br>"
      ]
    },
    {
      "cell_type": "markdown",
      "source": [
        "Этот словарь отсартировать нельзя, так как там встречаются как числовые значения, так и строки. Если заменить переменные на числа и вывести их отдельно, а потом превратить в список – то тогда отсортировать можно."
      ],
      "metadata": {
        "id": "V0loPvLfs45y"
      },
      "id": "V0loPvLfs45y"
    }
  ],
  "metadata": {
    "kernelspec": {
      "display_name": "Python 3 (ipykernel)",
      "language": "python",
      "name": "python3"
    },
    "language_info": {
      "codemirror_mode": {
        "name": "ipython",
        "version": 3
      },
      "file_extension": ".py",
      "mimetype": "text/x-python",
      "name": "python",
      "nbconvert_exporter": "python",
      "pygments_lexer": "ipython3",
      "version": "3.9.13"
    },
    "colab": {
      "provenance": []
    }
  },
  "nbformat": 4,
  "nbformat_minor": 5
}